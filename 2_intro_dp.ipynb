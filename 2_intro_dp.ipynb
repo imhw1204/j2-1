{
 "cells": [
  {
   "cell_type": "markdown",
   "metadata": {
    "slideshow": {
     "slide_type": "slide"
    }
   },
   "source": [
    "# 강의내용\n",
    "\n",
    "* 교재 1장 HFDP Ch1\n",
    "* 디자인패턴이 무엇인지 소개\n",
    "    * 디자인패턴 요소\n",
    "    * 디자인패턴 종류\n",
    "* 설계원칙\n",
    "    * 여러 디자인패턴이 있지만, 공통적으로 일관되게 적용되는 원칙을 이해\n",
    "    * SOLID (Martin, R.C., 2000)\n",
    "* 프로그래밍 'Duck' (HFDP Ch1)"
   ]
  },
  {
   "cell_type": "markdown",
   "metadata": {
    "slideshow": {
     "slide_type": "slide"
    }
   },
   "source": [
    "# 1. 디자인패턴 소개\n",
    "\n",
    "* 1977년 Christopher Alexander 반복해서 발생하는 문제에 대해 패턴을 적용하여, 같은 작업을 다시 작업해야 하는 노력을 줄이는 것이 필요\n",
    "* 1994년 디자인패턴 출간, 4명의 저자를 줄여서 GoF (Gang of Four)\n",
    "    * VGamma, E., Helm, R., Johnson, R., & Vlissides, J. (1994). Design patterns: elements of reusable object-oriented software. Pearson Education.\n",
    "* 디자인패턴이란 자주 발생하는 설계문제에 대한 해답 \"A proven solution to a common problem in a specified context\"\n",
    "\n",
    "* 디자인패턴 요소\n",
    "\n",
    "요소 | 설명\n",
    "---|---\n",
    "name | 디자인패턴의 이름\n",
    "problem | 문제와 그런 문제가 발생하는 상황\n",
    "soution | 문제를 풀기위해 \n",
    "consequence | 디자인 패턴의 적용 결과\n",
    "\n",
    "* 어떤 디자인패턴이 있는가? (Catalog of Design Patterns)\n",
    "\n",
    "종류 | 디자인패턴\n",
    "---|---\n",
    "creational | 객체를 생성하여 문제를 푸는 패턴. factory, builder,singleton, prototype\n",
    "stuctural | 객체 구조 패턴. adapter, composite, proxy, flyweight, bridge, decorator\n",
    "behavioral | 객체끼리 서로 상호작용하는 패턴. template method, mediator, chain of responsibility, observer, strategy, command, state"
   ]
  },
  {
   "cell_type": "markdown",
   "metadata": {},
   "source": [
    "# 2. 설계원칙\n",
    "\n",
    "* GRASP (Larman, C. ,2005, Applying UML and patterns: an introduction to object-oriented analysis and design and iterative development. Pearson)\n",
    "    * Creator, information expert, low coupling, controller, high cohesion, indirection, polymorphism, protected variations, pure fabrication\n",
    "* Key design practices (Microsoft Application Architecture Guide, 2nd Ed., Microsoft Press)\n",
    "    * separation of concerns. 기능이 명확하게 구분되도록 설계. high cohesion and low coupling.\n",
    "    * signle responsibility principle. 단일 기능을 수행하도록 설계.\n",
    "    * principle of least knowledge. 내부적으로 구현된 내용을 서로 알지 못하게 설계. Low of Demeter (LoD)\n",
    "    * don't repeat yourself (DRY). 특정기능이 중복되게 사용되지 않게 설계.\n",
    "    * minimize upfront design - 요구사항이 불분명할 경우 처음부터 'big design'으로 하지 말고, 가볍게 반복적으로 설계 (agile method). YAGNI ('You ain't gonna need it!')이라고도 함.\n",
    "* SOLID (Martin, R. C., \"Design principles and design patterns\",2000, objectmentor.com)\n",
    "    * SRP Single Responsibility Principle\n",
    "    * OCP Open Closed Principle\n",
    "    * LSP Liskov Substitution Principle\n",
    "    * ISP Interface Segregation Principle\n",
    "    * DIP Dependency Inversion Principle\n",
    "* 즉, coupling and cohesion, inheritance, interface, and polymorphism, delegation, aggregation을 사용하여 Good Design"
   ]
  },
  {
   "cell_type": "markdown",
   "metadata": {},
   "source": [
    "## 2.1 OCP\n",
    "\n",
    "기능을 확장할 경우, 수정이 없도록 (최소화)\n",
    "\n",
    "* 변동부분의 분리\n",
    "    * 모든 함수를 갖고 있는 클래스를 구현 (Duck: fly, quack)\n",
    "    * 다른 하위클래스는 구현된 구체적인 클래스를 사용하게 되면\n",
    "    * 어떤 클래스가 추가가 될 경우 (fly/quack를 다 할 수 없는 클래스)\n",
    "    * 고치기 어려움.\n",
    "    * 따라서 변동할 수 있는 fly/quack\n",
    "* 인터페이스를 보고 프로그래밍"
   ]
  },
  {
   "cell_type": "code",
   "execution_count": 8,
   "metadata": {
    "collapsed": false,
    "slideshow": {
     "slide_type": "slide"
    }
   },
   "outputs": [
    {
     "name": "stdout",
     "output_type": "stream",
     "text": [
      "Installed plantuml_magics.py. To use it, type:\n",
      "  %load_ext plantuml_magics\n"
     ]
    }
   ],
   "source": [
    "%install_ext https://raw.githubusercontent.com/sberke/ipython-plantuml/master/plantuml_magics.py"
   ]
  },
  {
   "cell_type": "code",
   "execution_count": 9,
   "metadata": {
    "collapsed": false,
    "slideshow": {
     "slide_type": "slide"
    }
   },
   "outputs": [],
   "source": [
    "%load_ext plantuml_magics"
   ]
  },
  {
   "cell_type": "code",
   "execution_count": 10,
   "metadata": {
    "collapsed": false,
    "slideshow": {
     "slide_type": "slide"
    }
   },
   "outputs": [
    {
     "data": {
      "text/plain": [
       "['./plantuml.jar']"
      ]
     },
     "execution_count": 10,
     "metadata": {},
     "output_type": "execute_result"
    }
   ],
   "source": [
    "import glob\n",
    "glob.glob(r'./*.jar')"
   ]
  },
  {
   "cell_type": "code",
   "execution_count": 1,
   "metadata": {
    "collapsed": false
   },
   "outputs": [
    {
     "name": "stdout",
     "output_type": "stream",
     "text": [
      "/opt/local/bin/dot\r\n"
     ]
    }
   ],
   "source": [
    "!which dot"
   ]
  },
  {
   "cell_type": "code",
   "execution_count": 11,
   "metadata": {
    "collapsed": false
   },
   "outputs": [
    {
     "name": "stdout",
     "output_type": "stream",
     "text": [
      "/opt/local/bin/dot\n",
      "The environment variable GRAPHVIZ_DOT has been set to /opt/local/bin/dot\n",
      "Dot executable is /opt/local/bin/dot\n",
      "Dot version: dot - graphviz version 2.38.0 (20140413.2041)\n",
      "Installation seems OK. File generation OK\n"
     ]
    }
   ],
   "source": [
    "import os\n",
    "os.environ['GRAPHVIZ_DOT']='/opt/local/bin/dot'\n",
    "print os.environ['GRAPHVIZ_DOT']\n",
    "!java -jar plantuml.jar -testdot"
   ]
  },
  {
   "cell_type": "code",
   "execution_count": 14,
   "metadata": {
    "collapsed": false
   },
   "outputs": [
    {
     "data": {
      "image/svg+xml": [
       "<svg height=\"174px\" style=\"width:109px;height:174px;\" version=\"1.1\" viewBox=\"0 0 109 174\" width=\"109px\" xmlns=\"http://www.w3.org/2000/svg\" xmlns:xlink=\"http://www.w3.org/1999/xlink\"><defs/><g><text fill=\"#000000\" font-family=\"Default\" font-size=\"12\" lengthAdjust=\"spacingAndGlyphs\" textLength=\"92\" x=\"16\" y=\"17.6016\">project dir(root)</text><text fill=\"#000000\" font-family=\"Default\" font-size=\"12\" lengthAdjust=\"spacingAndGlyphs\" textLength=\"21\" x=\"26\" y=\"31.7344\">doc</text><text fill=\"#000000\" font-family=\"Default\" font-size=\"12\" lengthAdjust=\"spacingAndGlyphs\" textLength=\"41\" x=\"26\" y=\"45.8672\">classes</text><text fill=\"#000000\" font-family=\"Default\" font-size=\"12\" lengthAdjust=\"spacingAndGlyphs\" textLength=\"24\" x=\"36\" y=\"60\">com</text><text fill=\"#000000\" font-family=\"Default\" font-size=\"12\" lengthAdjust=\"spacingAndGlyphs\" textLength=\"12\" x=\"46\" y=\"74.1328\">j2</text><text fill=\"#000000\" font-family=\"Default\" font-size=\"12\" lengthAdjust=\"spacingAndGlyphs\" textLength=\"24\" x=\"56\" y=\"88.2656\">wk2</text><text fill=\"#000000\" font-family=\"Default\" font-size=\"12\" lengthAdjust=\"spacingAndGlyphs\" textLength=\"17\" x=\"26\" y=\"102.3984\">src</text><text fill=\"#000000\" font-family=\"Default\" font-size=\"12\" lengthAdjust=\"spacingAndGlyphs\" textLength=\"24\" x=\"36\" y=\"116.5313\">com</text><text fill=\"#000000\" font-family=\"Default\" font-size=\"12\" lengthAdjust=\"spacingAndGlyphs\" textLength=\"12\" x=\"46\" y=\"130.6641\">j2</text><text fill=\"#000000\" font-family=\"Default\" font-size=\"12\" lengthAdjust=\"spacingAndGlyphs\" textLength=\"24\" x=\"56\" y=\"144.7969\">wk2</text><text fill=\"#000000\" font-family=\"Default\" font-size=\"12\" lengthAdjust=\"spacingAndGlyphs\" textLength=\"14\" x=\"26\" y=\"158.9297\">lib</text><text fill=\"#000000\" font-family=\"Default\" font-size=\"12\" lengthAdjust=\"spacingAndGlyphs\" textLength=\"36\" x=\"26\" y=\"173.0625\">model</text><rect fill=\"none\" height=\"2\" style=\"stroke: #888888; stroke-width: 1.0;\" width=\"2\" x=\"9\" y=\"12.0664\"/><line style=\"stroke: #888888; stroke-width: 1.0;\" x1=\"10\" x2=\"10\" y1=\"15.0664\" y2=\"27.1992\"/><line style=\"stroke: #888888; stroke-width: 1.0;\" x1=\"10\" x2=\"18\" y1=\"27.1992\" y2=\"27.1992\"/><rect fill=\"none\" height=\"2\" style=\"stroke: #888888; stroke-width: 1.0;\" width=\"2\" x=\"19\" y=\"40.332\"/><line style=\"stroke: #888888; stroke-width: 1.0;\" x1=\"10\" x2=\"10\" y1=\"15.0664\" y2=\"41.332\"/><line style=\"stroke: #888888; stroke-width: 1.0;\" x1=\"10\" x2=\"18\" y1=\"41.332\" y2=\"41.332\"/><rect fill=\"none\" height=\"2\" style=\"stroke: #888888; stroke-width: 1.0;\" width=\"2\" x=\"29\" y=\"54.4648\"/><line style=\"stroke: #888888; stroke-width: 1.0;\" x1=\"20\" x2=\"20\" y1=\"43.332\" y2=\"55.4648\"/><line style=\"stroke: #888888; stroke-width: 1.0;\" x1=\"20\" x2=\"28\" y1=\"55.4648\" y2=\"55.4648\"/><rect fill=\"none\" height=\"2\" style=\"stroke: #888888; stroke-width: 1.0;\" width=\"2\" x=\"39\" y=\"68.5977\"/><line style=\"stroke: #888888; stroke-width: 1.0;\" x1=\"30\" x2=\"30\" y1=\"57.4648\" y2=\"69.5977\"/><line style=\"stroke: #888888; stroke-width: 1.0;\" x1=\"30\" x2=\"38\" y1=\"69.5977\" y2=\"69.5977\"/><line style=\"stroke: #888888; stroke-width: 1.0;\" x1=\"40\" x2=\"40\" y1=\"71.5977\" y2=\"83.7305\"/><line style=\"stroke: #888888; stroke-width: 1.0;\" x1=\"40\" x2=\"48\" y1=\"83.7305\" y2=\"83.7305\"/><rect fill=\"none\" height=\"2\" style=\"stroke: #888888; stroke-width: 1.0;\" width=\"2\" x=\"19\" y=\"96.8633\"/><line style=\"stroke: #888888; stroke-width: 1.0;\" x1=\"10\" x2=\"10\" y1=\"15.0664\" y2=\"97.8633\"/><line style=\"stroke: #888888; stroke-width: 1.0;\" x1=\"10\" x2=\"18\" y1=\"97.8633\" y2=\"97.8633\"/><rect fill=\"none\" height=\"2\" style=\"stroke: #888888; stroke-width: 1.0;\" width=\"2\" x=\"29\" y=\"110.9961\"/><line style=\"stroke: #888888; stroke-width: 1.0;\" x1=\"20\" x2=\"20\" y1=\"99.8633\" y2=\"111.9961\"/><line style=\"stroke: #888888; stroke-width: 1.0;\" x1=\"20\" x2=\"28\" y1=\"111.9961\" y2=\"111.9961\"/><rect fill=\"none\" height=\"2\" style=\"stroke: #888888; stroke-width: 1.0;\" width=\"2\" x=\"39\" y=\"125.1289\"/><line style=\"stroke: #888888; stroke-width: 1.0;\" x1=\"30\" x2=\"30\" y1=\"113.9961\" y2=\"126.1289\"/><line style=\"stroke: #888888; stroke-width: 1.0;\" x1=\"30\" x2=\"38\" y1=\"126.1289\" y2=\"126.1289\"/><line style=\"stroke: #888888; stroke-width: 1.0;\" x1=\"40\" x2=\"40\" y1=\"128.1289\" y2=\"140.2617\"/><line style=\"stroke: #888888; stroke-width: 1.0;\" x1=\"40\" x2=\"48\" y1=\"140.2617\" y2=\"140.2617\"/><line style=\"stroke: #888888; stroke-width: 1.0;\" x1=\"10\" x2=\"10\" y1=\"15.0664\" y2=\"154.3945\"/><line style=\"stroke: #888888; stroke-width: 1.0;\" x1=\"10\" x2=\"18\" y1=\"154.3945\" y2=\"154.3945\"/><line style=\"stroke: #888888; stroke-width: 1.0;\" x1=\"10\" x2=\"10\" y1=\"15.0664\" y2=\"168.5273\"/><line style=\"stroke: #888888; stroke-width: 1.0;\" x1=\"10\" x2=\"18\" y1=\"168.5273\" y2=\"168.5273\"/></g></svg>"
      ],
      "text/plain": [
       "<IPython.core.display.SVG object>"
      ]
     },
     "execution_count": 14,
     "metadata": {},
     "output_type": "execute_result"
    }
   ],
   "source": [
    "%%plantuml\n",
    "\n",
    "@startsalt\n",
    "{\n",
    "    {T\n",
    "        +project dir(root)\n",
    "        ++doc\n",
    "        ++classes\n",
    "        +++com\n",
    "        ++++j2\n",
    "        +++++wk2\n",
    "        ++src\n",
    "        +++com\n",
    "        ++++j2\n",
    "        +++++wk2\n",
    "        ++lib\n",
    "        ++model\n",
    "    }\n",
    "}\n",
    "@endsalt"
   ]
  },
  {
   "cell_type": "code",
   "execution_count": 15,
   "metadata": {
    "collapsed": false
   },
   "outputs": [
    {
     "data": {
      "text/plain": [
       "u'/Users/media/Dropbox/Me/toCopy/smu'"
      ]
     },
     "execution_count": 15,
     "metadata": {},
     "output_type": "execute_result"
    }
   ],
   "source": [
    "%pwd"
   ]
  },
  {
   "cell_type": "markdown",
   "metadata": {},
   "source": [
    "## 2.1 OCP 계속\n",
    "\n",
    "* 문제\n",
    "    * 문을 여는 경우, 다른 종류의 문 (확장)을 여는 경우 수정해야 할 부분이 많음 (클라이언트 + 새로운 문)\n",
    "    * 또한 다른 종류의 문을 if문으로 분기처리\n",
    "* 설계대안 - 상속\n",
    "    * 상속으로 처리하면, 새로운 문은 간단하게 부모-자식관계.\n",
    "    * 클라이언트는 수정 없슴. 부모클래스(Door)만 사용.\n",
    "    * 새로운 문은 실행시점 Late binding."
   ]
  },
  {
   "cell_type": "code",
   "execution_count": 20,
   "metadata": {
    "collapsed": false
   },
   "outputs": [
    {
     "data": {
      "image/svg+xml": [
       "<svg height=\"190px\" style=\"width:384px;height:190px;\" version=\"1.1\" viewBox=\"0 0 384 190\" width=\"384px\" xmlns=\"http://www.w3.org/2000/svg\" xmlns:xlink=\"http://www.w3.org/1999/xlink\"><defs><filter height=\"300%\" id=\"f1\" width=\"300%\" x=\"-1\" y=\"-1\"><feGaussianBlur result=\"blurOut\" stdDeviation=\"2.0\"/><feColorMatrix in=\"blurOut\" result=\"blurOut2\" type=\"matrix\" values=\"0 0 0 0 0 0 0 0 0 0 0 0 0 0 0 0 0 0 .4 0\"/><feOffset dx=\"4.0\" dy=\"4.0\" in=\"blurOut2\" result=\"blurOut3\"/><feBlend in=\"SourceGraphic\" in2=\"blurOut3\" mode=\"normal\"/></filter></defs><g><rect fill=\"#FEFECE\" filter=\"url(#f1)\" height=\"48\" style=\"stroke: #A80036; stroke-width: 1.5;\" width=\"64\" x=\"83\" y=\"8\"/><ellipse cx=\"98\" cy=\"24\" fill=\"#ADD1B2\" rx=\"11\" ry=\"11\" style=\"stroke: #A80036; stroke-width: 1.0;\"/><path d=\"M100.9731,29.6431 Q100.3921,29.9419 99.7529,30.0913 Q99.1138,30.2407 98.4082,30.2407 Q95.9014,30.2407 94.5815,28.5889 Q93.2617,26.937 93.2617,23.8159 Q93.2617,20.6865 94.5815,19.0347 Q95.9014,17.3828 98.4082,17.3828 Q99.1138,17.3828 99.7612,17.5322 Q100.4087,17.6816 100.9731,17.9805 L100.9731,20.7031 Q100.3423,20.1221 99.7488,19.8523 Q99.1553,19.5825 98.5244,19.5825 Q97.1797,19.5825 96.4949,20.6492 Q95.8101,21.7158 95.8101,23.8159 Q95.8101,25.9077 96.4949,26.9744 Q97.1797,28.041 98.5244,28.041 Q99.1553,28.041 99.7488,27.7712 Q100.3423,27.5015 100.9731,26.9204 Z \"/><text fill=\"#000000\" font-family=\"sans-serif\" font-size=\"12\" lengthAdjust=\"spacingAndGlyphs\" textLength=\"32\" x=\"112\" y=\"28.5352\">Client</text><line style=\"stroke: #A80036; stroke-width: 1.5;\" x1=\"84\" x2=\"146\" y1=\"40\" y2=\"40\"/><line style=\"stroke: #A80036; stroke-width: 1.5;\" x1=\"84\" x2=\"146\" y1=\"48\" y2=\"48\"/><rect fill=\"#FEFECE\" filter=\"url(#f1)\" height=\"48\" style=\"stroke: #A80036; stroke-width: 1.5;\" width=\"117\" x=\"258.5\" y=\"8\"/><ellipse cx=\"273.5\" cy=\"24\" fill=\"#ADD1B2\" rx=\"11\" ry=\"11\" style=\"stroke: #A80036; stroke-width: 1.0;\"/><path d=\"M276.4731,29.6431 Q275.8921,29.9419 275.2529,30.0913 Q274.6138,30.2407 273.9082,30.2407 Q271.4014,30.2407 270.0815,28.5889 Q268.7617,26.937 268.7617,23.8159 Q268.7617,20.6865 270.0815,19.0347 Q271.4014,17.3828 273.9082,17.3828 Q274.6138,17.3828 275.2612,17.5322 Q275.9087,17.6816 276.4731,17.9805 L276.4731,20.7031 Q275.8423,20.1221 275.2488,19.8523 Q274.6553,19.5825 274.0244,19.5825 Q272.6797,19.5825 271.9949,20.6492 Q271.3101,21.7158 271.3101,23.8159 Q271.3101,25.9077 271.9949,26.9744 Q272.6797,28.041 274.0244,28.041 Q274.6553,28.041 275.2488,27.7712 Q275.8423,27.5015 276.4731,26.9204 Z \"/><text fill=\"#000000\" font-family=\"sans-serif\" font-size=\"12\" lengthAdjust=\"spacingAndGlyphs\" textLength=\"85\" x=\"287.5\" y=\"28.5352\">AutomaticDoor</text><line style=\"stroke: #A80036; stroke-width: 1.5;\" x1=\"259.5\" x2=\"374.5\" y1=\"40\" y2=\"40\"/><line style=\"stroke: #A80036; stroke-width: 1.5;\" x1=\"259.5\" x2=\"374.5\" y1=\"48\" y2=\"48\"/><rect fill=\"#FEFECE\" filter=\"url(#f1)\" height=\"48\" style=\"stroke: #A80036; stroke-width: 1.5;\" width=\"90\" x=\"6\" y=\"133\"/><ellipse cx=\"21\" cy=\"149\" fill=\"#ADD1B2\" rx=\"11\" ry=\"11\" style=\"stroke: #A80036; stroke-width: 1.0;\"/><path d=\"M23.9731,154.6431 Q23.3921,154.9419 22.7529,155.0913 Q22.1138,155.2407 21.4082,155.2407 Q18.9014,155.2407 17.5815,153.5889 Q16.2617,151.937 16.2617,148.8159 Q16.2617,145.6865 17.5815,144.0347 Q18.9014,142.3828 21.4082,142.3828 Q22.1138,142.3828 22.7612,142.5322 Q23.4087,142.6816 23.9731,142.9805 L23.9731,145.7031 Q23.3423,145.1221 22.7488,144.8523 Q22.1553,144.5825 21.5244,144.5825 Q20.1797,144.5825 19.4949,145.6492 Q18.8101,146.7158 18.8101,148.8159 Q18.8101,150.9077 19.4949,151.9744 Q20.1797,153.041 21.5244,153.041 Q22.1553,153.041 22.7488,152.7712 Q23.3423,152.5015 23.9731,151.9204 Z \"/><text fill=\"#000000\" font-family=\"sans-serif\" font-size=\"12\" lengthAdjust=\"spacingAndGlyphs\" textLength=\"58\" x=\"35\" y=\"153.5352\">KnobDoor</text><line style=\"stroke: #A80036; stroke-width: 1.5;\" x1=\"7\" x2=\"95\" y1=\"165\" y2=\"165\"/><line style=\"stroke: #A80036; stroke-width: 1.5;\" x1=\"7\" x2=\"95\" y1=\"173\" y2=\"173\"/><rect fill=\"#FEFECE\" filter=\"url(#f1)\" height=\"48\" style=\"stroke: #A80036; stroke-width: 1.5;\" width=\"97\" x=\"131.5\" y=\"133\"/><ellipse cx=\"146.5\" cy=\"149\" fill=\"#ADD1B2\" rx=\"11\" ry=\"11\" style=\"stroke: #A80036; stroke-width: 1.0;\"/><path d=\"M149.4731,154.6431 Q148.8921,154.9419 148.2529,155.0913 Q147.6138,155.2407 146.9082,155.2407 Q144.4014,155.2407 143.0815,153.5889 Q141.7617,151.937 141.7617,148.8159 Q141.7617,145.6865 143.0815,144.0347 Q144.4014,142.3828 146.9082,142.3828 Q147.6138,142.3828 148.2612,142.5322 Q148.9087,142.6816 149.4731,142.9805 L149.4731,145.7031 Q148.8423,145.1221 148.2488,144.8523 Q147.6553,144.5825 147.0244,144.5825 Q145.6797,144.5825 144.9949,145.6492 Q144.3101,146.7158 144.3101,148.8159 Q144.3101,150.9077 144.9949,151.9744 Q145.6797,153.041 147.0244,153.041 Q147.6553,153.041 148.2488,152.7712 Q148.8423,152.5015 149.4731,151.9204 Z \"/><text fill=\"#000000\" font-family=\"sans-serif\" font-size=\"12\" lengthAdjust=\"spacingAndGlyphs\" textLength=\"65\" x=\"160.5\" y=\"153.5352\">SlidingDoor</text><line style=\"stroke: #A80036; stroke-width: 1.5;\" x1=\"132.5\" x2=\"227.5\" y1=\"165\" y2=\"165\"/><line style=\"stroke: #A80036; stroke-width: 1.5;\" x1=\"132.5\" x2=\"227.5\" y1=\"173\" y2=\"173\"/><path d=\"M147.008,32 C175.424,32 217.798,32 253.13,32 \" fill=\"none\" style=\"stroke: #A80036; stroke-width: 1.0;\"/><polygon fill=\"#A80036\" points=\"258.289,32,249.289,28,253.289,32,249.289,36,258.289,32\" style=\"stroke: #A80036; stroke-width: 1.0;\"/><text fill=\"#000000\" font-family=\"sans-serif\" font-size=\"13\" lengthAdjust=\"spacingAndGlyphs\" textLength=\"75\" x=\"165.25\" y=\"25.5684\">pressOpen()</text><path d=\"M86.3292,56.056 C77.539,64.563 68.6943,74.868 63,86 C56.4566,98.7919 53.3838,114.4426 51.9778,127.6988 \" fill=\"none\" style=\"stroke: #A80036; stroke-width: 1.0;\"/><polygon fill=\"#A80036\" points=\"51.5018,132.839,56.3148,124.2463,51.9629,127.8603,48.3489,123.5084,51.5018,132.839\" style=\"stroke: #A80036; stroke-width: 1.0;\"/><text fill=\"#000000\" font-family=\"sans-serif\" font-size=\"13\" lengthAdjust=\"spacingAndGlyphs\" textLength=\"72\" x=\"64\" y=\"99.5684\">twistOpen()</text><path d=\"M127.226,56.135 C138.075,76.666 153.943,106.6926 165.444,128.4561 \" fill=\"none\" style=\"stroke: #A80036; stroke-width: 1.0;\"/><polygon fill=\"#A80036\" points=\"167.829,132.9684,167.1612,123.1422,165.4932,128.5476,160.0878,126.8795,167.829,132.9684\" style=\"stroke: #A80036; stroke-width: 1.0;\"/><text fill=\"#000000\" font-family=\"sans-serif\" font-size=\"13\" lengthAdjust=\"spacingAndGlyphs\" textLength=\"71\" x=\"153\" y=\"99.5684\">slideOpen()</text></g></svg>"
      ],
      "text/plain": [
       "<IPython.core.display.SVG object>"
      ]
     },
     "execution_count": 20,
     "metadata": {},
     "output_type": "execute_result"
    }
   ],
   "source": [
    "%%plantuml\n",
    "\n",
    "@startuml\n",
    "\n",
    "Client -right-> AutomaticDoor: pressOpen()\n",
    "Client --> KnobDoor: twistOpen()\n",
    "Client --> SlidingDoor: slideOpen()\n",
    "\n",
    "@enduml"
   ]
  },
  {
   "cell_type": "code",
   "execution_count": 17,
   "metadata": {
    "collapsed": false
   },
   "outputs": [
    {
     "data": {
      "image/svg+xml": [
       "<svg height=\"199px\" style=\"width:390px;height:199px;\" version=\"1.1\" viewBox=\"0 0 390 199\" width=\"390px\" xmlns=\"http://www.w3.org/2000/svg\" xmlns:xlink=\"http://www.w3.org/1999/xlink\"><defs><filter height=\"300%\" id=\"f1\" width=\"300%\" x=\"-1\" y=\"-1\"><feGaussianBlur result=\"blurOut\" stdDeviation=\"2.0\"/><feColorMatrix in=\"blurOut\" result=\"blurOut2\" type=\"matrix\" values=\"0 0 0 0 0 0 0 0 0 0 0 0 0 0 0 0 0 0 .4 0\"/><feOffset dx=\"4.0\" dy=\"4.0\" in=\"blurOut2\" result=\"blurOut3\"/><feBlend in=\"SourceGraphic\" in2=\"blurOut3\" mode=\"normal\"/></filter></defs><g><rect fill=\"#FEFECE\" filter=\"url(#f1)\" height=\"48\" style=\"stroke: #A80036; stroke-width: 1.5;\" width=\"64\" x=\"72.5\" y=\"21\"/><ellipse cx=\"87.5\" cy=\"37\" fill=\"#ADD1B2\" rx=\"11\" ry=\"11\" style=\"stroke: #A80036; stroke-width: 1.0;\"/><path d=\"M90.4731,42.6431 Q89.8921,42.9419 89.2529,43.0913 Q88.6138,43.2407 87.9082,43.2407 Q85.4014,43.2407 84.0815,41.5889 Q82.7617,39.937 82.7617,36.8159 Q82.7617,33.6865 84.0815,32.0347 Q85.4014,30.3828 87.9082,30.3828 Q88.6138,30.3828 89.2612,30.5322 Q89.9087,30.6816 90.4731,30.9805 L90.4731,33.7031 Q89.8423,33.1221 89.2488,32.8523 Q88.6553,32.5825 88.0244,32.5825 Q86.6797,32.5825 85.9949,33.6492 Q85.3101,34.7158 85.3101,36.8159 Q85.3101,38.9077 85.9949,39.9744 Q86.6797,41.041 88.0244,41.041 Q88.6553,41.041 89.2488,40.7712 Q89.8423,40.5015 90.4731,39.9204 Z \"/><text fill=\"#000000\" font-family=\"sans-serif\" font-size=\"12\" lengthAdjust=\"spacingAndGlyphs\" textLength=\"32\" x=\"101.5\" y=\"41.5352\">Client</text><line style=\"stroke: #A80036; stroke-width: 1.5;\" x1=\"73.5\" x2=\"135.5\" y1=\"53\" y2=\"53\"/><line style=\"stroke: #A80036; stroke-width: 1.5;\" x1=\"73.5\" x2=\"135.5\" y1=\"61\" y2=\"61\"/><rect fill=\"#FEFECE\" filter=\"url(#f1)\" height=\"73.9102\" style=\"stroke: #A80036; stroke-width: 1.5;\" width=\"64\" x=\"171.5\" y=\"8\"/><ellipse cx=\"188.3\" cy=\"24\" fill=\"#ADD1B2\" rx=\"11\" ry=\"11\" style=\"stroke: #A80036; stroke-width: 1.0;\"/><path d=\"M191.2731,29.6431 Q190.6921,29.9419 190.0529,30.0913 Q189.4138,30.2407 188.7082,30.2407 Q186.2014,30.2407 184.8815,28.5889 Q183.5617,26.937 183.5617,23.8159 Q183.5617,20.6865 184.8815,19.0347 Q186.2014,17.3828 188.7082,17.3828 Q189.4138,17.3828 190.0612,17.5322 Q190.7087,17.6816 191.2731,17.9805 L191.2731,20.7031 Q190.6423,20.1221 190.0488,19.8523 Q189.4553,19.5825 188.8244,19.5825 Q187.4797,19.5825 186.7949,20.6492 Q186.1101,21.7158 186.1101,23.8159 Q186.1101,25.9077 186.7949,26.9744 Q187.4797,28.041 188.8244,28.041 Q189.4553,28.041 190.0488,27.7712 Q190.6423,27.5015 191.2731,26.9204 Z \"/><text fill=\"#000000\" font-family=\"sans-serif\" font-size=\"12\" lengthAdjust=\"spacingAndGlyphs\" textLength=\"28\" x=\"202.7\" y=\"28.5352\">Door</text><line style=\"stroke: #A80036; stroke-width: 1.5;\" x1=\"172.5\" x2=\"234.5\" y1=\"40\" y2=\"40\"/><rect fill=\"none\" height=\"6\" style=\"stroke: #C82930; stroke-width: 1.0;\" width=\"6\" x=\"179.5\" y=\"48.9775\"/><text fill=\"#000000\" font-family=\"sans-serif\" font-size=\"11\" lengthAdjust=\"spacingAndGlyphs\" textLength=\"38\" x=\"191.5\" y=\"54.6348\">isOpen</text><ellipse cx=\"182.5\" cy=\"64.9326\" fill=\"none\" rx=\"3\" ry=\"3\" style=\"stroke: #038048; stroke-width: 1.0;\"/><text fill=\"#000000\" font-family=\"sans-serif\" font-size=\"11\" lengthAdjust=\"spacingAndGlyphs\" textLength=\"27\" x=\"191.5\" y=\"67.5898\">open</text><line style=\"stroke: #A80036; stroke-width: 1.5;\" x1=\"172.5\" x2=\"234.5\" y1=\"73.9102\" y2=\"73.9102\"/><rect fill=\"#FEFECE\" filter=\"url(#f1)\" height=\"48\" style=\"stroke: #A80036; stroke-width: 1.5;\" width=\"117\" x=\"6\" y=\"142\"/><ellipse cx=\"21\" cy=\"158\" fill=\"#ADD1B2\" rx=\"11\" ry=\"11\" style=\"stroke: #A80036; stroke-width: 1.0;\"/><path d=\"M23.9731,163.6431 Q23.3921,163.9419 22.7529,164.0913 Q22.1138,164.2407 21.4082,164.2407 Q18.9014,164.2407 17.5815,162.5889 Q16.2617,160.937 16.2617,157.8159 Q16.2617,154.6865 17.5815,153.0347 Q18.9014,151.3828 21.4082,151.3828 Q22.1138,151.3828 22.7612,151.5322 Q23.4087,151.6816 23.9731,151.9805 L23.9731,154.7031 Q23.3423,154.1221 22.7488,153.8523 Q22.1553,153.5825 21.5244,153.5825 Q20.1797,153.5825 19.4949,154.6492 Q18.8101,155.7158 18.8101,157.8159 Q18.8101,159.9077 19.4949,160.9744 Q20.1797,162.041 21.5244,162.041 Q22.1553,162.041 22.7488,161.7712 Q23.3423,161.5015 23.9731,160.9204 Z \"/><text fill=\"#000000\" font-family=\"sans-serif\" font-size=\"12\" lengthAdjust=\"spacingAndGlyphs\" textLength=\"85\" x=\"35\" y=\"162.5352\">AutomaticDoor</text><line style=\"stroke: #A80036; stroke-width: 1.5;\" x1=\"7\" x2=\"122\" y1=\"174\" y2=\"174\"/><line style=\"stroke: #A80036; stroke-width: 1.5;\" x1=\"7\" x2=\"122\" y1=\"182\" y2=\"182\"/><rect fill=\"#FEFECE\" filter=\"url(#f1)\" height=\"48\" style=\"stroke: #A80036; stroke-width: 1.5;\" width=\"90\" x=\"158.5\" y=\"142\"/><ellipse cx=\"173.5\" cy=\"158\" fill=\"#ADD1B2\" rx=\"11\" ry=\"11\" style=\"stroke: #A80036; stroke-width: 1.0;\"/><path d=\"M176.4731,163.6431 Q175.8921,163.9419 175.2529,164.0913 Q174.6138,164.2407 173.9082,164.2407 Q171.4014,164.2407 170.0815,162.5889 Q168.7617,160.937 168.7617,157.8159 Q168.7617,154.6865 170.0815,153.0347 Q171.4014,151.3828 173.9082,151.3828 Q174.6138,151.3828 175.2612,151.5322 Q175.9087,151.6816 176.4731,151.9805 L176.4731,154.7031 Q175.8423,154.1221 175.2488,153.8523 Q174.6553,153.5825 174.0244,153.5825 Q172.6797,153.5825 171.9949,154.6492 Q171.3101,155.7158 171.3101,157.8159 Q171.3101,159.9077 171.9949,160.9744 Q172.6797,162.041 174.0244,162.041 Q174.6553,162.041 175.2488,161.7712 Q175.8423,161.5015 176.4731,160.9204 Z \"/><text fill=\"#000000\" font-family=\"sans-serif\" font-size=\"12\" lengthAdjust=\"spacingAndGlyphs\" textLength=\"58\" x=\"187.5\" y=\"162.5352\">KnobDoor</text><line style=\"stroke: #A80036; stroke-width: 1.5;\" x1=\"159.5\" x2=\"247.5\" y1=\"174\" y2=\"174\"/><line style=\"stroke: #A80036; stroke-width: 1.5;\" x1=\"159.5\" x2=\"247.5\" y1=\"182\" y2=\"182\"/><rect fill=\"#FEFECE\" filter=\"url(#f1)\" height=\"48\" style=\"stroke: #A80036; stroke-width: 1.5;\" width=\"97\" x=\"284\" y=\"142\"/><ellipse cx=\"299\" cy=\"158\" fill=\"#ADD1B2\" rx=\"11\" ry=\"11\" style=\"stroke: #A80036; stroke-width: 1.0;\"/><path d=\"M301.9731,163.6431 Q301.3921,163.9419 300.7529,164.0913 Q300.1138,164.2407 299.4082,164.2407 Q296.9014,164.2407 295.5815,162.5889 Q294.2617,160.937 294.2617,157.8159 Q294.2617,154.6865 295.5815,153.0347 Q296.9014,151.3828 299.4082,151.3828 Q300.1138,151.3828 300.7612,151.5322 Q301.4087,151.6816 301.9731,151.9805 L301.9731,154.7031 Q301.3423,154.1221 300.7488,153.8523 Q300.1553,153.5825 299.5244,153.5825 Q298.1797,153.5825 297.4949,154.6492 Q296.8101,155.7158 296.8101,157.8159 Q296.8101,159.9077 297.4949,160.9744 Q298.1797,162.041 299.5244,162.041 Q300.1553,162.041 300.7488,161.7712 Q301.3423,161.5015 301.9731,160.9204 Z \"/><text fill=\"#000000\" font-family=\"sans-serif\" font-size=\"12\" lengthAdjust=\"spacingAndGlyphs\" textLength=\"65\" x=\"313\" y=\"162.5352\">SlidingDoor</text><line style=\"stroke: #A80036; stroke-width: 1.5;\" x1=\"285\" x2=\"380\" y1=\"174\" y2=\"174\"/><line style=\"stroke: #A80036; stroke-width: 1.5;\" x1=\"285\" x2=\"380\" y1=\"182\" y2=\"182\"/><path d=\"M136.598,45 C148.184,45 159.77,45 171.356,45 \" fill=\"none\" style=\"stroke: #A80036; stroke-width: 1.0;\"/><path d=\"M155.912,86.741 C134.371,105.1823 109.702,126.3018 91.4242,141.9498 \" fill=\"none\" style=\"stroke: #A80036; stroke-width: 1.0;\"/><polygon fill=\"none\" points=\"151.516,81.289,171.261,73.6,160.621,91.9245,151.516,81.289\" style=\"stroke: #A80036; stroke-width: 1.0;\"/><path d=\"M203.5,102.0684 C203.5,116.1232 203.5,130.4342 203.5,141.8505 \" fill=\"none\" style=\"stroke: #A80036; stroke-width: 1.0;\"/><polygon fill=\"none\" points=\"196.5,102.0269,203.5,82.027,210.5,102.0268,196.5,102.0269\" style=\"stroke: #A80036; stroke-width: 1.0;\"/><path d=\"M250.567,89.418 C269.865,107.2202 291.413,127.0983 307.567,141.9994 \" fill=\"none\" style=\"stroke: #A80036; stroke-width: 1.0;\"/><polygon fill=\"none\" points=\"245.674,94.4278,235.719,75.722,255.166,84.137,245.674,94.4278\" style=\"stroke: #A80036; stroke-width: 1.0;\"/></g></svg>"
      ],
      "text/plain": [
       "<IPython.core.display.SVG object>"
      ]
     },
     "execution_count": 17,
     "metadata": {},
     "output_type": "execute_result"
    }
   ],
   "source": [
    "%%plantuml\n",
    "\n",
    "@startuml\n",
    "\n",
    "Client -right- Door\n",
    "Door <|-- AutomaticDoor\n",
    "Door <|-- KnobDoor\n",
    "Door <|-- SlidingDoor\n",
    "\n",
    "class Door {\n",
    "  -isOpen\n",
    "  +open()\n",
    "}\n",
    "\n",
    "@enduml"
   ]
  },
  {
   "cell_type": "markdown",
   "metadata": {},
   "source": [
    "# 2.2 LSP\n",
    "\n",
    "* 자식클래스는 부모클래스를 대체할 수 있어야 함. Subclasses should be substitutable for their base classes.\n",
    "* 원과 타원의 문제 The Circle/Ellipse Dilemma\n",
    "* 정사각형과 직사각형의 문제 Rectangle"
   ]
  },
  {
   "cell_type": "markdown",
   "metadata": {},
   "source": [
    "# 2.3 Dependency Inversion Principle\n",
    "\n",
    "* Depend upon Abstractions. Do not depend upon concretions\n",
    "* 인터페이스, 추상클래스, 추상메소드를 사용. 구현클래스를 사용하지 말 것.\n",
    "* 문의 경우 클라이언트는 추상클래스(base class)를 사용했슴. 구체클래스를 사용하지 않았슴."
   ]
  },
  {
   "cell_type": "code",
   "execution_count": 21,
   "metadata": {
    "collapsed": false
   },
   "outputs": [
    {
     "data": {
      "image/svg+xml": [
       "<svg height=\"307px\" style=\"width:390px;height:307px;\" version=\"1.1\" viewBox=\"0 0 390 307\" width=\"390px\" xmlns=\"http://www.w3.org/2000/svg\" xmlns:xlink=\"http://www.w3.org/1999/xlink\"><defs><filter height=\"300%\" id=\"f1\" width=\"300%\" x=\"-1\" y=\"-1\"><feGaussianBlur result=\"blurOut\" stdDeviation=\"2.0\"/><feColorMatrix in=\"blurOut\" result=\"blurOut2\" type=\"matrix\" values=\"0 0 0 0 0 0 0 0 0 0 0 0 0 0 0 0 0 0 .4 0\"/><feOffset dx=\"4.0\" dy=\"4.0\" in=\"blurOut2\" result=\"blurOut3\"/><feBlend in=\"SourceGraphic\" in2=\"blurOut3\" mode=\"normal\"/></filter></defs><g><rect fill=\"#FEFECE\" filter=\"url(#f1)\" height=\"48\" style=\"stroke: #A80036; stroke-width: 1.5;\" width=\"64\" x=\"171.5\" y=\"8\"/><ellipse cx=\"186.5\" cy=\"24\" fill=\"#ADD1B2\" rx=\"11\" ry=\"11\" style=\"stroke: #A80036; stroke-width: 1.0;\"/><path d=\"M189.4731,29.6431 Q188.8921,29.9419 188.2529,30.0913 Q187.6138,30.2407 186.9082,30.2407 Q184.4014,30.2407 183.0815,28.5889 Q181.7617,26.937 181.7617,23.8159 Q181.7617,20.6865 183.0815,19.0347 Q184.4014,17.3828 186.9082,17.3828 Q187.6138,17.3828 188.2612,17.5322 Q188.9087,17.6816 189.4731,17.9805 L189.4731,20.7031 Q188.8423,20.1221 188.2488,19.8523 Q187.6553,19.5825 187.0244,19.5825 Q185.6797,19.5825 184.9949,20.6492 Q184.3101,21.7158 184.3101,23.8159 Q184.3101,25.9077 184.9949,26.9744 Q185.6797,28.041 187.0244,28.041 Q187.6553,28.041 188.2488,27.7712 Q188.8423,27.5015 189.4731,26.9204 Z \"/><text fill=\"#000000\" font-family=\"sans-serif\" font-size=\"12\" lengthAdjust=\"spacingAndGlyphs\" textLength=\"32\" x=\"200.5\" y=\"28.5352\">Client</text><line style=\"stroke: #A80036; stroke-width: 1.5;\" x1=\"172.5\" x2=\"234.5\" y1=\"40\" y2=\"40\"/><line style=\"stroke: #A80036; stroke-width: 1.5;\" x1=\"172.5\" x2=\"234.5\" y1=\"48\" y2=\"48\"/><rect fill=\"#FEFECE\" filter=\"url(#f1)\" height=\"73.9102\" style=\"stroke: #A80036; stroke-width: 1.5;\" width=\"64\" x=\"171.5\" y=\"116\"/><ellipse cx=\"188.3\" cy=\"132\" fill=\"#ADD1B2\" rx=\"11\" ry=\"11\" style=\"stroke: #A80036; stroke-width: 1.0;\"/><path d=\"M191.2731,137.6431 Q190.6921,137.9419 190.0529,138.0913 Q189.4138,138.2407 188.7082,138.2407 Q186.2014,138.2407 184.8815,136.5889 Q183.5617,134.937 183.5617,131.8159 Q183.5617,128.6865 184.8815,127.0347 Q186.2014,125.3828 188.7082,125.3828 Q189.4138,125.3828 190.0612,125.5322 Q190.7087,125.6816 191.2731,125.9805 L191.2731,128.7031 Q190.6423,128.1221 190.0488,127.8523 Q189.4553,127.5825 188.8244,127.5825 Q187.4797,127.5825 186.7949,128.6492 Q186.1101,129.7158 186.1101,131.8159 Q186.1101,133.9077 186.7949,134.9744 Q187.4797,136.041 188.8244,136.041 Q189.4553,136.041 190.0488,135.7712 Q190.6423,135.5015 191.2731,134.9204 Z \"/><text fill=\"#000000\" font-family=\"sans-serif\" font-size=\"12\" lengthAdjust=\"spacingAndGlyphs\" textLength=\"28\" x=\"202.7\" y=\"136.5352\">Door</text><line style=\"stroke: #A80036; stroke-width: 1.5;\" x1=\"172.5\" x2=\"234.5\" y1=\"148\" y2=\"148\"/><rect fill=\"none\" height=\"6\" style=\"stroke: #C82930; stroke-width: 1.0;\" width=\"6\" x=\"179.5\" y=\"156.9775\"/><text fill=\"#000000\" font-family=\"sans-serif\" font-size=\"11\" lengthAdjust=\"spacingAndGlyphs\" textLength=\"38\" x=\"191.5\" y=\"162.6348\">isOpen</text><line style=\"stroke: #A80036; stroke-width: 1.5;\" x1=\"172.5\" x2=\"234.5\" y1=\"168.9551\" y2=\"168.9551\"/><ellipse cx=\"182.5\" cy=\"180.9326\" fill=\"#84BE84\" rx=\"3\" ry=\"3\" style=\"stroke: #038048; stroke-width: 1.0;\"/><text fill=\"#000000\" font-family=\"sans-serif\" font-size=\"11\" lengthAdjust=\"spacingAndGlyphs\" textLength=\"35\" x=\"191.5\" y=\"183.5898\">open()</text><rect fill=\"#FEFECE\" filter=\"url(#f1)\" height=\"48\" style=\"stroke: #A80036; stroke-width: 1.5;\" width=\"117\" x=\"6\" y=\"250\"/><ellipse cx=\"21\" cy=\"266\" fill=\"#ADD1B2\" rx=\"11\" ry=\"11\" style=\"stroke: #A80036; stroke-width: 1.0;\"/><path d=\"M23.9731,271.6431 Q23.3921,271.9419 22.7529,272.0913 Q22.1138,272.2407 21.4082,272.2407 Q18.9014,272.2407 17.5815,270.5889 Q16.2617,268.937 16.2617,265.8159 Q16.2617,262.6865 17.5815,261.0347 Q18.9014,259.3828 21.4082,259.3828 Q22.1138,259.3828 22.7612,259.5322 Q23.4087,259.6816 23.9731,259.9805 L23.9731,262.7031 Q23.3423,262.1221 22.7488,261.8523 Q22.1553,261.5825 21.5244,261.5825 Q20.1797,261.5825 19.4949,262.6492 Q18.8101,263.7158 18.8101,265.8159 Q18.8101,267.9077 19.4949,268.9744 Q20.1797,270.041 21.5244,270.041 Q22.1553,270.041 22.7488,269.7712 Q23.3423,269.5015 23.9731,268.9204 Z \"/><text fill=\"#000000\" font-family=\"sans-serif\" font-size=\"12\" lengthAdjust=\"spacingAndGlyphs\" textLength=\"85\" x=\"35\" y=\"270.5352\">AutomaticDoor</text><line style=\"stroke: #A80036; stroke-width: 1.5;\" x1=\"7\" x2=\"122\" y1=\"282\" y2=\"282\"/><line style=\"stroke: #A80036; stroke-width: 1.5;\" x1=\"7\" x2=\"122\" y1=\"290\" y2=\"290\"/><rect fill=\"#FEFECE\" filter=\"url(#f1)\" height=\"48\" style=\"stroke: #A80036; stroke-width: 1.5;\" width=\"90\" x=\"158.5\" y=\"250\"/><ellipse cx=\"173.5\" cy=\"266\" fill=\"#ADD1B2\" rx=\"11\" ry=\"11\" style=\"stroke: #A80036; stroke-width: 1.0;\"/><path d=\"M176.4731,271.6431 Q175.8921,271.9419 175.2529,272.0913 Q174.6138,272.2407 173.9082,272.2407 Q171.4014,272.2407 170.0815,270.5889 Q168.7617,268.937 168.7617,265.8159 Q168.7617,262.6865 170.0815,261.0347 Q171.4014,259.3828 173.9082,259.3828 Q174.6138,259.3828 175.2612,259.5322 Q175.9087,259.6816 176.4731,259.9805 L176.4731,262.7031 Q175.8423,262.1221 175.2488,261.8523 Q174.6553,261.5825 174.0244,261.5825 Q172.6797,261.5825 171.9949,262.6492 Q171.3101,263.7158 171.3101,265.8159 Q171.3101,267.9077 171.9949,268.9744 Q172.6797,270.041 174.0244,270.041 Q174.6553,270.041 175.2488,269.7712 Q175.8423,269.5015 176.4731,268.9204 Z \"/><text fill=\"#000000\" font-family=\"sans-serif\" font-size=\"12\" lengthAdjust=\"spacingAndGlyphs\" textLength=\"58\" x=\"187.5\" y=\"270.5352\">KnobDoor</text><line style=\"stroke: #A80036; stroke-width: 1.5;\" x1=\"159.5\" x2=\"247.5\" y1=\"282\" y2=\"282\"/><line style=\"stroke: #A80036; stroke-width: 1.5;\" x1=\"159.5\" x2=\"247.5\" y1=\"290\" y2=\"290\"/><rect fill=\"#FEFECE\" filter=\"url(#f1)\" height=\"48\" style=\"stroke: #A80036; stroke-width: 1.5;\" width=\"97\" x=\"284\" y=\"250\"/><ellipse cx=\"299\" cy=\"266\" fill=\"#ADD1B2\" rx=\"11\" ry=\"11\" style=\"stroke: #A80036; stroke-width: 1.0;\"/><path d=\"M301.9731,271.6431 Q301.3921,271.9419 300.7529,272.0913 Q300.1138,272.2407 299.4082,272.2407 Q296.9014,272.2407 295.5815,270.5889 Q294.2617,268.937 294.2617,265.8159 Q294.2617,262.6865 295.5815,261.0347 Q296.9014,259.3828 299.4082,259.3828 Q300.1138,259.3828 300.7612,259.5322 Q301.4087,259.6816 301.9731,259.9805 L301.9731,262.7031 Q301.3423,262.1221 300.7488,261.8523 Q300.1553,261.5825 299.5244,261.5825 Q298.1797,261.5825 297.4949,262.6492 Q296.8101,263.7158 296.8101,265.8159 Q296.8101,267.9077 297.4949,268.9744 Q298.1797,270.041 299.5244,270.041 Q300.1553,270.041 300.7488,269.7712 Q301.3423,269.5015 301.9731,268.9204 Z \"/><text fill=\"#000000\" font-family=\"sans-serif\" font-size=\"12\" lengthAdjust=\"spacingAndGlyphs\" textLength=\"65\" x=\"313\" y=\"270.5352\">SlidingDoor</text><line style=\"stroke: #A80036; stroke-width: 1.5;\" x1=\"285\" x2=\"380\" y1=\"282\" y2=\"282\"/><line style=\"stroke: #A80036; stroke-width: 1.5;\" x1=\"285\" x2=\"380\" y1=\"290\" y2=\"290\"/><path d=\"M203.5,56.227 C203.5,73.137 203.5,96.367 203.5,115.714 \" fill=\"none\" style=\"stroke: #A80036; stroke-width: 1.0;\"/><path d=\"M155.912,194.741 C134.371,213.1823 109.702,234.3018 91.4242,249.9498 \" fill=\"none\" style=\"stroke: #A80036; stroke-width: 1.0;\"/><polygon fill=\"none\" points=\"151.516,189.289,171.261,181.6,160.621,199.9245,151.516,189.289\" style=\"stroke: #A80036; stroke-width: 1.0;\"/><path d=\"M203.5,210.0684 C203.5,224.1232 203.5,238.4342 203.5,249.8505 \" fill=\"none\" style=\"stroke: #A80036; stroke-width: 1.0;\"/><polygon fill=\"none\" points=\"196.5,210.0269,203.5,190.027,210.5,210.0268,196.5,210.0269\" style=\"stroke: #A80036; stroke-width: 1.0;\"/><path d=\"M250.567,197.418 C269.865,215.2202 291.413,235.0983 307.567,249.9994 \" fill=\"none\" style=\"stroke: #A80036; stroke-width: 1.0;\"/><polygon fill=\"none\" points=\"245.674,202.4278,235.719,183.722,255.166,192.137,245.674,202.4278\" style=\"stroke: #A80036; stroke-width: 1.0;\"/></g></svg>"
      ],
      "text/plain": [
       "<IPython.core.display.SVG object>"
      ]
     },
     "execution_count": 21,
     "metadata": {},
     "output_type": "execute_result"
    }
   ],
   "source": [
    "%%plantuml\n",
    "\n",
    "@startuml\n",
    "\n",
    "Client -- Door\n",
    "Door <|-- AutomaticDoor\n",
    "Door <|-- KnobDoor\n",
    "Door <|-- SlidingDoor\n",
    "\n",
    "class Door {\n",
    "  -isOpen\n",
    "  +open()\n",
    "}\n",
    "\n",
    "@enduml"
   ]
  },
  {
   "cell_type": "markdown",
   "metadata": {},
   "source": [
    "# 2.4 Interface Segregation Principle\n",
    "\n",
    "* 객체에서 나누어지는 서로 다른 기능이 있는 경우, 인터페이스로 분리\n",
    "* 교재 HFDP Ch1 'Duck'"
   ]
  },
  {
   "cell_type": "markdown",
   "metadata": {
    "slideshow": {
     "slide_type": "slide"
    }
   },
   "source": [
    "# 단순\n",
    "* Simple SimDuck\n",
    "* 오리를 날게 fly()"
   ]
  },
  {
   "cell_type": "code",
   "execution_count": 19,
   "metadata": {
    "collapsed": false,
    "slideshow": {
     "slide_type": "slide"
    }
   },
   "outputs": [
    {
     "data": {
      "image/svg+xml": [
       "<svg height=\"212px\" style=\"width:696px;height:212px;\" version=\"1.1\" viewBox=\"0 0 696 212\" width=\"696px\" xmlns=\"http://www.w3.org/2000/svg\" xmlns:xlink=\"http://www.w3.org/1999/xlink\"><defs><filter height=\"300%\" id=\"f1\" width=\"300%\" x=\"-1\" y=\"-1\"><feGaussianBlur result=\"blurOut\" stdDeviation=\"2.0\"/><feColorMatrix in=\"blurOut\" result=\"blurOut2\" type=\"matrix\" values=\"0 0 0 0 0 0 0 0 0 0 0 0 0 0 0 0 0 0 .4 0\"/><feOffset dx=\"4.0\" dy=\"4.0\" in=\"blurOut2\" result=\"blurOut3\"/><feBlend in=\"SourceGraphic\" in2=\"blurOut3\" mode=\"normal\"/></filter></defs><g><rect fill=\"#FEFECE\" filter=\"url(#f1)\" height=\"60.9551\" style=\"stroke: #A80036; stroke-width: 1.5;\" width=\"72\" x=\"99.5\" y=\"21\"/><ellipse cx=\"114.5\" cy=\"37\" fill=\"#B4A7E5\" rx=\"11\" ry=\"11\" style=\"stroke: #A80036; stroke-width: 1.0;\"/><path d=\"M110.4277,32.7651 L110.4277,30.6069 L117.8071,30.6069 L117.8071,32.7651 L115.3418,32.7651 L115.3418,40.8418 L117.8071,40.8418 L117.8071,43 L110.4277,43 L110.4277,40.8418 L112.8931,40.8418 L112.8931,32.7651 Z \"/><text fill=\"#000000\" font-family=\"sans-serif\" font-size=\"12\" font-style=\"italic\" lengthAdjust=\"spacingAndGlyphs\" textLength=\"40\" x=\"128.5\" y=\"41.5352\">Flyable</text><line style=\"stroke: #A80036; stroke-width: 1.5;\" x1=\"100.5\" x2=\"170.5\" y1=\"53\" y2=\"53\"/><line style=\"stroke: #A80036; stroke-width: 1.5;\" x1=\"100.5\" x2=\"170.5\" y1=\"61\" y2=\"61\"/><ellipse cx=\"110.5\" cy=\"72.9775\" fill=\"#84BE84\" rx=\"3\" ry=\"3\" style=\"stroke: #038048; stroke-width: 1.0;\"/><text fill=\"#000000\" font-family=\"sans-serif\" font-size=\"11\" lengthAdjust=\"spacingAndGlyphs\" textLength=\"21\" x=\"119.5\" y=\"75.6348\">fly()</text><rect fill=\"#FEFECE\" filter=\"url(#f1)\" height=\"60.9551\" style=\"stroke: #A80036; stroke-width: 1.5;\" width=\"93\" x=\"301\" y=\"21\"/><ellipse cx=\"316\" cy=\"37\" fill=\"#B4A7E5\" rx=\"11\" ry=\"11\" style=\"stroke: #A80036; stroke-width: 1.0;\"/><path d=\"M311.9277,32.7651 L311.9277,30.6069 L319.3071,30.6069 L319.3071,32.7651 L316.8418,32.7651 L316.8418,40.8418 L319.3071,40.8418 L319.3071,43 L311.9277,43 L311.9277,40.8418 L314.3931,40.8418 L314.3931,32.7651 Z \"/><text fill=\"#000000\" font-family=\"sans-serif\" font-size=\"12\" font-style=\"italic\" lengthAdjust=\"spacingAndGlyphs\" textLength=\"61\" x=\"330\" y=\"41.5352\">Quackable</text><line style=\"stroke: #A80036; stroke-width: 1.5;\" x1=\"302\" x2=\"393\" y1=\"53\" y2=\"53\"/><line style=\"stroke: #A80036; stroke-width: 1.5;\" x1=\"302\" x2=\"393\" y1=\"61\" y2=\"61\"/><ellipse cx=\"312\" cy=\"72.9775\" fill=\"#84BE84\" rx=\"3\" ry=\"3\" style=\"stroke: #038048; stroke-width: 1.0;\"/><text fill=\"#000000\" font-family=\"sans-serif\" font-size=\"11\" lengthAdjust=\"spacingAndGlyphs\" textLength=\"40\" x=\"321\" y=\"75.6348\">quack()</text><rect fill=\"#FEFECE\" filter=\"url(#f1)\" height=\"86.8652\" style=\"stroke: #A80036; stroke-width: 1.5;\" width=\"72\" x=\"444.5\" y=\"8\"/><ellipse cx=\"464.45\" cy=\"24\" fill=\"#ADD1B2\" rx=\"11\" ry=\"11\" style=\"stroke: #A80036; stroke-width: 1.0;\"/><path d=\"M467.4231,29.6431 Q466.8421,29.9419 466.2029,30.0913 Q465.5638,30.2407 464.8582,30.2407 Q462.3514,30.2407 461.0315,28.5889 Q459.7117,26.937 459.7117,23.8159 Q459.7117,20.6865 461.0315,19.0347 Q462.3514,17.3828 464.8582,17.3828 Q465.5638,17.3828 466.2112,17.5322 Q466.8587,17.6816 467.4231,17.9805 L467.4231,20.7031 Q466.7923,20.1221 466.1988,19.8523 Q465.6053,19.5825 464.9744,19.5825 Q463.6297,19.5825 462.9449,20.6492 Q462.2601,21.7158 462.2601,23.8159 Q462.2601,25.9077 462.9449,26.9744 Q463.6297,28.041 464.9744,28.041 Q465.6053,28.041 466.1988,27.7712 Q466.7923,27.5015 467.4231,26.9204 Z \"/><text fill=\"#000000\" font-family=\"sans-serif\" font-size=\"12\" lengthAdjust=\"spacingAndGlyphs\" textLength=\"29\" x=\"479.55\" y=\"28.5352\">Duck</text><line style=\"stroke: #A80036; stroke-width: 1.5;\" x1=\"445.5\" x2=\"515.5\" y1=\"40\" y2=\"40\"/><rect fill=\"none\" height=\"6\" style=\"stroke: #C82930; stroke-width: 1.0;\" width=\"6\" x=\"452.5\" y=\"48.9775\"/><text fill=\"#000000\" font-family=\"sans-serif\" font-size=\"11\" lengthAdjust=\"spacingAndGlyphs\" textLength=\"30\" x=\"464.5\" y=\"54.6348\">field1</text><line style=\"stroke: #A80036; stroke-width: 1.5;\" x1=\"445.5\" x2=\"515.5\" y1=\"60.9551\" y2=\"60.9551\"/><ellipse cx=\"455.5\" cy=\"72.9326\" fill=\"#84BE84\" rx=\"3\" ry=\"3\" style=\"stroke: #038048; stroke-width: 1.0;\"/><text fill=\"#000000\" font-family=\"sans-serif\" font-size=\"11\" lengthAdjust=\"spacingAndGlyphs\" textLength=\"32\" x=\"464.5\" y=\"75.5898\">swin()</text><ellipse cx=\"455.5\" cy=\"85.8877\" fill=\"#84BE84\" rx=\"3\" ry=\"3\" style=\"stroke: #038048; stroke-width: 1.0;\"/><text fill=\"#000000\" font-family=\"sans-serif\" font-size=\"11\" lengthAdjust=\"spacingAndGlyphs\" textLength=\"46\" x=\"464.5\" y=\"88.5449\">display()</text><rect fill=\"#FEFECE\" filter=\"url(#f1)\" height=\"48\" style=\"stroke: #A80036; stroke-width: 1.5;\" width=\"104\" x=\"156.5\" y=\"155\"/><ellipse cx=\"171.5\" cy=\"171\" fill=\"#ADD1B2\" rx=\"11\" ry=\"11\" style=\"stroke: #A80036; stroke-width: 1.0;\"/><path d=\"M174.4731,176.6431 Q173.8921,176.9419 173.2529,177.0913 Q172.6138,177.2407 171.9082,177.2407 Q169.4014,177.2407 168.0815,175.5889 Q166.7617,173.937 166.7617,170.8159 Q166.7617,167.6865 168.0815,166.0347 Q169.4014,164.3828 171.9082,164.3828 Q172.6138,164.3828 173.2612,164.5322 Q173.9087,164.6816 174.4731,164.9805 L174.4731,167.7031 Q173.8423,167.1221 173.2488,166.8523 Q172.6553,166.5825 172.0244,166.5825 Q170.6797,166.5825 169.9949,167.6492 Q169.3101,168.7158 169.3101,170.8159 Q169.3101,172.9077 169.9949,173.9744 Q170.6797,175.041 172.0244,175.041 Q172.6553,175.041 173.2488,174.7712 Q173.8423,174.5015 174.4731,173.9204 Z \"/><text fill=\"#000000\" font-family=\"sans-serif\" font-size=\"12\" lengthAdjust=\"spacingAndGlyphs\" textLength=\"72\" x=\"185.5\" y=\"175.5352\">MallerdDuck</text><line style=\"stroke: #A80036; stroke-width: 1.5;\" x1=\"157.5\" x2=\"259.5\" y1=\"187\" y2=\"187\"/><line style=\"stroke: #A80036; stroke-width: 1.5;\" x1=\"157.5\" x2=\"259.5\" y1=\"195\" y2=\"195\"/><rect fill=\"#FEFECE\" filter=\"url(#f1)\" height=\"48\" style=\"stroke: #A80036; stroke-width: 1.5;\" width=\"122\" x=\"434.5\" y=\"155\"/><ellipse cx=\"449.5\" cy=\"171\" fill=\"#ADD1B2\" rx=\"11\" ry=\"11\" style=\"stroke: #A80036; stroke-width: 1.0;\"/><path d=\"M452.4731,176.6431 Q451.8921,176.9419 451.2529,177.0913 Q450.6138,177.2407 449.9082,177.2407 Q447.4014,177.2407 446.0815,175.5889 Q444.7617,173.937 444.7617,170.8159 Q444.7617,167.6865 446.0815,166.0347 Q447.4014,164.3828 449.9082,164.3828 Q450.6138,164.3828 451.2612,164.5322 Q451.9087,164.6816 452.4731,164.9805 L452.4731,167.7031 Q451.8423,167.1221 451.2488,166.8523 Q450.6553,166.5825 450.0244,166.5825 Q448.6797,166.5825 447.9949,167.6492 Q447.3101,168.7158 447.3101,170.8159 Q447.3101,172.9077 447.9949,173.9744 Q448.6797,175.041 450.0244,175.041 Q450.6553,175.041 451.2488,174.7712 Q451.8423,174.5015 452.4731,173.9204 Z \"/><text fill=\"#000000\" font-family=\"sans-serif\" font-size=\"12\" lengthAdjust=\"spacingAndGlyphs\" textLength=\"90\" x=\"463.5\" y=\"175.5352\">ReadHeadDuck</text><line style=\"stroke: #A80036; stroke-width: 1.5;\" x1=\"435.5\" x2=\"555.5\" y1=\"187\" y2=\"187\"/><line style=\"stroke: #A80036; stroke-width: 1.5;\" x1=\"435.5\" x2=\"555.5\" y1=\"195\" y2=\"195\"/><rect fill=\"#FEFECE\" filter=\"url(#f1)\" height=\"48\" style=\"stroke: #A80036; stroke-width: 1.5;\" width=\"104\" x=\"295.5\" y=\"155\"/><ellipse cx=\"310.5\" cy=\"171\" fill=\"#ADD1B2\" rx=\"11\" ry=\"11\" style=\"stroke: #A80036; stroke-width: 1.0;\"/><path d=\"M313.4731,176.6431 Q312.8921,176.9419 312.2529,177.0913 Q311.6138,177.2407 310.9082,177.2407 Q308.4014,177.2407 307.0815,175.5889 Q305.7617,173.937 305.7617,170.8159 Q305.7617,167.6865 307.0815,166.0347 Q308.4014,164.3828 310.9082,164.3828 Q311.6138,164.3828 312.2612,164.5322 Q312.9087,164.6816 313.4731,164.9805 L313.4731,167.7031 Q312.8423,167.1221 312.2488,166.8523 Q311.6553,166.5825 311.0244,166.5825 Q309.6797,166.5825 308.9949,167.6492 Q308.3101,168.7158 308.3101,170.8159 Q308.3101,172.9077 308.9949,173.9744 Q309.6797,175.041 311.0244,175.041 Q311.6553,175.041 312.2488,174.7712 Q312.8423,174.5015 313.4731,173.9204 Z \"/><text fill=\"#000000\" font-family=\"sans-serif\" font-size=\"12\" lengthAdjust=\"spacingAndGlyphs\" textLength=\"72\" x=\"324.5\" y=\"175.5352\">RubberDuck</text><line style=\"stroke: #A80036; stroke-width: 1.5;\" x1=\"296.5\" x2=\"398.5\" y1=\"187\" y2=\"187\"/><line style=\"stroke: #A80036; stroke-width: 1.5;\" x1=\"296.5\" x2=\"398.5\" y1=\"195\" y2=\"195\"/><rect fill=\"#FEFECE\" filter=\"url(#f1)\" height=\"48\" style=\"stroke: #A80036; stroke-width: 1.5;\" width=\"96\" x=\"591.5\" y=\"155\"/><ellipse cx=\"606.5\" cy=\"171\" fill=\"#ADD1B2\" rx=\"11\" ry=\"11\" style=\"stroke: #A80036; stroke-width: 1.0;\"/><path d=\"M609.4731,176.6431 Q608.8921,176.9419 608.2529,177.0913 Q607.6138,177.2407 606.9082,177.2407 Q604.4014,177.2407 603.0815,175.5889 Q601.7617,173.937 601.7617,170.8159 Q601.7617,167.6865 603.0815,166.0347 Q604.4014,164.3828 606.9082,164.3828 Q607.6138,164.3828 608.2612,164.5322 Q608.9087,164.6816 609.4731,164.9805 L609.4731,167.7031 Q608.8423,167.1221 608.2488,166.8523 Q607.6553,166.5825 607.0244,166.5825 Q605.6797,166.5825 604.9949,167.6492 Q604.3101,168.7158 604.3101,170.8159 Q604.3101,172.9077 604.9949,173.9744 Q605.6797,175.041 607.0244,175.041 Q607.6553,175.041 608.2488,174.7712 Q608.8423,174.5015 609.4731,173.9204 Z \"/><text fill=\"#000000\" font-family=\"sans-serif\" font-size=\"12\" lengthAdjust=\"spacingAndGlyphs\" textLength=\"64\" x=\"620.5\" y=\"175.5352\">DecoyDuck</text><line style=\"stroke: #A80036; stroke-width: 1.5;\" x1=\"592.5\" x2=\"686.5\" y1=\"187\" y2=\"187\"/><line style=\"stroke: #A80036; stroke-width: 1.5;\" x1=\"592.5\" x2=\"686.5\" y1=\"195\" y2=\"195\"/><rect fill=\"#FEFECE\" filter=\"url(#f1)\" height=\"48\" style=\"stroke: #A80036; stroke-width: 1.5;\" width=\"115\" x=\"6\" y=\"155\"/><ellipse cx=\"21\" cy=\"171\" fill=\"#ADD1B2\" rx=\"11\" ry=\"11\" style=\"stroke: #A80036; stroke-width: 1.0;\"/><path d=\"M23.9731,176.6431 Q23.3921,176.9419 22.7529,177.0913 Q22.1138,177.2407 21.4082,177.2407 Q18.9014,177.2407 17.5815,175.5889 Q16.2617,173.937 16.2617,170.8159 Q16.2617,167.6865 17.5815,166.0347 Q18.9014,164.3828 21.4082,164.3828 Q22.1138,164.3828 22.7612,164.5322 Q23.4087,164.6816 23.9731,164.9805 L23.9731,167.7031 Q23.3423,167.1221 22.7488,166.8523 Q22.1553,166.5825 21.5244,166.5825 Q20.1797,166.5825 19.4949,167.6492 Q18.8101,168.7158 18.8101,170.8159 Q18.8101,172.9077 19.4949,173.9744 Q20.1797,175.041 21.5244,175.041 Q22.1553,175.041 22.7488,174.7712 Q23.3423,174.5015 23.9731,173.9204 Z \"/><text fill=\"#000000\" font-family=\"sans-serif\" font-size=\"12\" lengthAdjust=\"spacingAndGlyphs\" textLength=\"83\" x=\"35\" y=\"175.5352\">RedHeadDuck</text><line style=\"stroke: #A80036; stroke-width: 1.5;\" x1=\"7\" x2=\"120\" y1=\"187\" y2=\"187\"/><line style=\"stroke: #A80036; stroke-width: 1.5;\" x1=\"7\" x2=\"120\" y1=\"195\" y2=\"195\"/><path d=\"M427.041,86.597 C421.852,89.552 416.615,92.401 411.5,95 C361.771,120.2666 302.478,143.7963 260.853,159.3025 \" fill=\"none\" style=\"stroke: #A80036; stroke-width: 1.0;\"/><polygon fill=\"none\" points=\"423.489,80.565,444.258,76.362,430.644,92.599,423.489,80.565\" style=\"stroke: #A80036; stroke-width: 1.0;\"/><path d=\"M488.035,115.5467 C489.709,129.5515 491.381,143.5365 492.717,154.7115 \" fill=\"none\" style=\"stroke: #A80036; stroke-width: 1.0;\"/><polygon fill=\"none\" points=\"481.043,116.0284,485.62,95.339,494.944,114.3669,481.043,116.0284\" style=\"stroke: #A80036; stroke-width: 1.0;\"/><path d=\"M429.564,100.564 C409.824,119.1902 388.146,139.646 372.03,154.8534 \" fill=\"none\" style=\"stroke: #A80036; stroke-width: 1.0;\"/><polygon fill=\"none\" points=\"424.807,95.428,444.157,86.793,434.415,105.6107,424.807,95.428\" style=\"stroke: #A80036; stroke-width: 1.0;\"/><path d=\"M532.367,93.439 C558.184,113.8169 588.443,137.7001 610.205,154.8774 \" fill=\"none\" style=\"stroke: #A80036; stroke-width: 1.0;\"/><polygon fill=\"none\" points=\"527.942,98.864,516.58,80.978,536.615,87.875,527.942,98.864\" style=\"stroke: #A80036; stroke-width: 1.0;\"/><path d=\"M162.99,99.759 C173.922,118.5539 186.004,139.326 194.971,154.7412 \" fill=\"none\" style=\"stroke: #A80036; stroke-width: 1.0; stroke-dasharray: 7.0,7.0;\"/><polygon fill=\"none\" points=\"156.805,103.0494,152.8,82.242,168.907,96.01,156.805,103.0494\" style=\"stroke: #A80036; stroke-width: 1.0;\"/><path d=\"M108.387,99.759 C97.6046,118.5539 85.6875,139.326 76.8437,154.7412 \" fill=\"none\" style=\"stroke: #A80036; stroke-width: 1.0; stroke-dasharray: 7.0,7.0;\"/><polygon fill=\"none\" points=\"102.4127,96.106,118.437,82.242,114.556,103.073,102.4127,96.106\" style=\"stroke: #A80036; stroke-width: 1.0;\"/><path d=\"M299.649,95.703 C277.71,115.5121 252.573,138.2078 234.261,154.7412 \" fill=\"none\" style=\"stroke: #A80036; stroke-width: 1.0; stroke-dasharray: 7.0,7.0;\"/><polygon fill=\"none\" points=\"295.023,90.449,314.559,82.242,304.405,100.84,295.023,90.449\" style=\"stroke: #A80036; stroke-width: 1.0;\"/><path d=\"M398.111,95.417 C421.55,115.2927 448.48,138.1279 468.071,154.7412 \" fill=\"none\" style=\"stroke: #A80036; stroke-width: 1.0; stroke-dasharray: 7.0,7.0;\"/><polygon fill=\"none\" points=\"393.301,100.516,382.574,82.242,402.355,89.838,393.301,100.516\" style=\"stroke: #A80036; stroke-width: 1.0;\"/><path d=\"M347.5,102.401 C347.5,120.4795 347.5,140.0449 347.5,154.7412 \" fill=\"none\" style=\"stroke: #A80036; stroke-width: 1.0; stroke-dasharray: 7.0,7.0;\"/><polygon fill=\"none\" points=\"340.5,102.242,347.5,82.242,354.5,102.242,340.5,102.242\" style=\"stroke: #A80036; stroke-width: 1.0;\"/></g></svg>"
      ],
      "text/plain": [
       "<IPython.core.display.SVG object>"
      ]
     },
     "execution_count": 19,
     "metadata": {},
     "output_type": "execute_result"
    }
   ],
   "source": [
    "%%plantuml\n",
    "\n",
    "@startuml\n",
    "\n",
    "Interface Flyable\n",
    "Interface Quackable\n",
    "\n",
    "Duck <|-- MallerdDuck\n",
    "Duck <|-- ReadHeadDuck\n",
    "Duck <|-- RubberDuck\n",
    "Duck <|-- DecoyDuck\n",
    "\n",
    "Flyable <|.. MallerdDuck\n",
    "Flyable <|.. RedHeadDuck\n",
    "\n",
    "Quackable <|.. MallerdDuck\n",
    "Quackable <|.. ReadHeadDuck\n",
    "Quackable <|.. RubberDuck\n",
    "\n",
    "class Duck {\n",
    "  -field1\n",
    "  +swin()\n",
    "  +display()\n",
    "}\n",
    "\n",
    "Interface Flyable {\n",
    "    +fly()\n",
    "}\n",
    "\n",
    "Interface Quackable {\n",
    "    +quack()\n",
    "}\n",
    "\n",
    "@enduml"
   ]
  },
  {
   "cell_type": "code",
   "execution_count": 11,
   "metadata": {
    "collapsed": true
   },
   "outputs": [],
   "source": []
  },
  {
   "cell_type": "code",
   "execution_count": 10,
   "metadata": {
    "collapsed": false,
    "slideshow": {
     "slide_type": "slide"
    }
   },
   "outputs": [
    {
     "data": {
      "image/svg+xml": [
       "<svg height=\"220px\" style=\"width:112px;height:220px;\" version=\"1.1\" viewBox=\"0 0 112 220\" width=\"112px\" xmlns=\"http://www.w3.org/2000/svg\" xmlns:xlink=\"http://www.w3.org/1999/xlink\"><defs><filter height=\"300%\" id=\"f1\" width=\"300%\" x=\"-1\" y=\"-1\"><feGaussianBlur result=\"blurOut\" stdDeviation=\"2.0\"/><feColorMatrix in=\"blurOut\" result=\"blurOut2\" type=\"matrix\" values=\"0 0 0 0 0 0 0 0 0 0 0 0 0 0 0 0 0 0 .4 0\"/><feOffset dx=\"4.0\" dy=\"4.0\" in=\"blurOut2\" result=\"blurOut3\"/><feBlend in=\"SourceGraphic\" in2=\"blurOut3\" mode=\"normal\"/></filter></defs><g><line style=\"stroke: #A80036; stroke-width: 1.0; stroke-dasharray: 5.0,5.0;\" x1=\"26\" x2=\"26\" y1=\"86.4883\" y2=\"135.7988\"/><line style=\"stroke: #A80036; stroke-width: 1.0; stroke-dasharray: 5.0,5.0;\" x1=\"81\" x2=\"81\" y1=\"86.4883\" y2=\"135.7988\"/><text fill=\"#000000\" font-family=\"sans-serif\" font-size=\"14\" lengthAdjust=\"spacingAndGlyphs\" textLength=\"31\" x=\"8\" y=\"83.5352\">User</text><ellipse cx=\"26.5\" cy=\"13\" fill=\"#FEFECE\" filter=\"url(#f1)\" rx=\"8\" ry=\"8\" style=\"stroke: #A80036; stroke-width: 2.0;\"/><path d=\"M26.5,21 L26.5,48 M13.5,29 L39.5,29 M26.5,48 L13.5,63 M26.5,48 L39.5,63 \" fill=\"#FEFECE\" filter=\"url(#f1)\" style=\"stroke: #A80036; stroke-width: 2.0;\"/><text fill=\"#000000\" font-family=\"sans-serif\" font-size=\"14\" lengthAdjust=\"spacingAndGlyphs\" textLength=\"31\" x=\"8\" y=\"148.334\">User</text><ellipse cx=\"26.5\" cy=\"161.2871\" fill=\"#FEFECE\" filter=\"url(#f1)\" rx=\"8\" ry=\"8\" style=\"stroke: #A80036; stroke-width: 2.0;\"/><path d=\"M26.5,169.2871 L26.5,196.2871 M13.5,177.2871 L39.5,177.2871 M26.5,196.2871 L13.5,211.2871 M26.5,196.2871 L39.5,211.2871 \" fill=\"#FEFECE\" filter=\"url(#f1)\" style=\"stroke: #A80036; stroke-width: 2.0;\"/><rect fill=\"#FEFECE\" filter=\"url(#f1)\" height=\"30.4883\" style=\"stroke: #A80036; stroke-width: 1.5;\" width=\"48\" x=\"55\" y=\"51\"/><text fill=\"#000000\" font-family=\"sans-serif\" font-size=\"14\" lengthAdjust=\"spacingAndGlyphs\" textLength=\"34\" x=\"62\" y=\"71.5352\">Duck</text><rect fill=\"#FEFECE\" filter=\"url(#f1)\" height=\"30.4883\" style=\"stroke: #A80036; stroke-width: 1.5;\" width=\"48\" x=\"55\" y=\"134.7988\"/><text fill=\"#000000\" font-family=\"sans-serif\" font-size=\"14\" lengthAdjust=\"spacingAndGlyphs\" textLength=\"34\" x=\"62\" y=\"155.334\">Duck</text><polygon fill=\"#A80036\" points=\"69,113.4883,79,117.4883,69,121.4883,73,117.4883\" style=\"stroke: #A80036; stroke-width: 1.0;\"/><line style=\"stroke: #A80036; stroke-width: 1.0;\" x1=\"26.5\" x2=\"75\" y1=\"117.4883\" y2=\"117.4883\"/><text fill=\"#000000\" font-family=\"sans-serif\" font-size=\"13\" lengthAdjust=\"spacingAndGlyphs\" textLength=\"24\" x=\"33.5\" y=\"113.0566\">fly()</text></g></svg>"
      ],
      "text/plain": [
       "<IPython.core.display.SVG object>"
      ]
     },
     "execution_count": 10,
     "metadata": {},
     "output_type": "execute_result"
    }
   ],
   "source": [
    "%%plantuml\n",
    "@startuml\n",
    "actor User\n",
    "User -> Duck:fly()\n",
    "@enduml"
   ]
  },
  {
   "cell_type": "code",
   "execution_count": 14,
   "metadata": {
    "collapsed": false,
    "slideshow": {
     "slide_type": "slide"
    }
   },
   "outputs": [
    {
     "name": "stdout",
     "output_type": "stream",
     "text": [
      "Writing test.java\n"
     ]
    }
   ],
   "source": [
    "%%writefile test.java\n",
    "/* ASSISTANT CODE\n",
    " *\n",
    " * Problem 2. Fill in the blanks of the following code fragment. \n",
    " * When you run this code you get the following:\n",
    " * \n",
    " * Problem 2. --------------------\n",
    " * MallardDuck quack..\n",
    " * WildTurkey gobble..\n",
    " * WildTurkey flying a short distance\n",
    " * WildTurkey gobble..\n",
    " * -------------------------------\n",
    " */\n",
    "\n",
    "package com.ex.ood;\n",
    "\n",
    "interface Duck {\n",
    "\tpublic void quack();\n",
    "\tpublic void fly();\n",
    "}\n",
    "\n",
    "class MallardDuck implements Duck {\n",
    "\t@Override\n",
    "\tpublic void quack() {\n",
    "\t\tSystem.out.println(\"MallardDuck quack..\");\n",
    "\t}\n",
    "\t@Override\n",
    "\tpublic void fly() {\n",
    "\t\tSystem.out.println(\"MallardDuck flying\");\n",
    "\t}\n",
    "}\n",
    "\n",
    "interface Turkey {\n",
    "\tpublic void gobble();\n",
    "\tpublic void fly();\n",
    "}\n",
    "\n",
    "class WildTurkey implements Turkey {\n",
    "\t@Override\n",
    "\tpublic void fly() {\n",
    "\t\tSystem.out.println(\"WildTurkey flying a short distance\");\n",
    "\t}\n",
    "\t@Override\n",
    "\tpublic void gobble() {\n",
    "\t\tSystem.out.println(\"WildTurkey gobble..\");\n",
    "\t}\n",
    "}\n",
    "\n",
    "class TurkeyAdapter implements Duck {\n",
    "\tTurkey turkey;\n",
    "\tpublic TurkeyAdapter(Turkey turkey) {\n",
    "\t\tthis.turkey=turkey;\n",
    "\t}\n",
    "\t@Override\n",
    "\tpublic void fly() {\n",
    "\t\tturkey.fly();\n",
    "\t}\n",
    "\t@Override\n",
    "\tpublic void quack() {\n",
    "\t\tturkey.gobble();\n",
    "\t}\n",
    "}\n",
    "\n",
    "public class test {\n",
    "\tpublic static void main(String[] args) {\n",
    "\t\tSystem.out.println(\"Problem 2. -----------------\");\n",
    "        MallardDuck duck = new MallardDuck();\n",
    "        duck.quack();\n",
    "\n",
    "        WildTurkey turkey = new WildTurkey();\n",
    "        turkey.gobble();\n",
    "        turkey.fly();\n",
    "\n",
    "        Duck turkeyAdapter = new TurkeyAdapter(turkey);\n",
    "        turkeyAdapter.quack();\n",
    "\t\tSystem.out.println(\"----------------------------\");\n",
    "\t}\n",
    "}\n"
   ]
  },
  {
   "cell_type": "code",
   "execution_count": 17,
   "metadata": {
    "collapsed": false
   },
   "outputs": [
    {
     "name": "stdout",
     "output_type": "stream",
     "text": [
      "Problem 2. -----------------\r\n",
      "MallardDuck quack..\r\n",
      "WildTurkey gobble..\r\n",
      "WildTurkey flying a short distance\r\n",
      "WildTurkey gobble..\r\n",
      "----------------------------\r\n"
     ]
    }
   ],
   "source": [
    "!javac -sourcepath src -d classes src/test.java\n",
    "!java -classpath classes com.ex.ood.test"
   ]
  }
 ],
 "metadata": {
  "celltoolbar": "Slideshow",
  "kernelspec": {
   "display_name": "Python 2",
   "language": "python",
   "name": "python2"
  },
  "language_info": {
   "codemirror_mode": {
    "name": "ipython",
    "version": 2
   },
   "file_extension": ".py",
   "mimetype": "text/x-python",
   "name": "python",
   "nbconvert_exporter": "python",
   "pygments_lexer": "ipython2",
   "version": "2.7.9"
  }
 },
 "nbformat": 4,
 "nbformat_minor": 0
}
