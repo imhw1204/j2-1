{
 "cells": [
  {
   "cell_type": "markdown",
   "metadata": {
    "slideshow": {
     "slide_type": "slide"
    }
   },
   "source": [
    "# 환경\n",
    "\n",
    "* linux\n",
    "* UML PlantUML\n",
    "* IDE - drjava\n",
    "* git"
   ]
  },
  {
   "cell_type": "markdown",
   "metadata": {
    "slideshow": {
     "slide_type": "slide"
    }
   },
   "source": [
    "# Graphviz설치\n",
    "* sudo apt-get install graphviz\n",
    "* which dot (/usr/bin/dot 아닌 경우 경로 설정)"
   ]
  },
  {
   "cell_type": "code",
   "execution_count": 2,
   "metadata": {
    "collapsed": false,
    "slideshow": {
     "slide_type": "subslide"
    }
   },
   "outputs": [
    {
     "name": "stdout",
     "output_type": "stream",
     "text": [
      "/usr/bin/dot\r\n"
     ]
    }
   ],
   "source": [
    "!which dot"
   ]
  },
  {
   "cell_type": "markdown",
   "metadata": {
    "slideshow": {
     "slide_type": "slide"
    }
   },
   "source": [
    "# PlantUML 설치\n",
    "* plantuml.jar 다운로드 (http://plantuml.com)\n",
    "* plantuml.jar 파일을 ipynb가 있는 디렉토리로 이동\n",
    "    * 설정확인\n",
    "        * java -jar plantuml.jar -testdot\n",
    "    * 경로 설정\n",
    "        * setenv GRAPHVIZ_DOT /usr/local/bin/graphviz/dot\n",
    "        * export GRAPHVIZ_DOT\n",
    "        * export LANG = ko_KR.UTF-8"
   ]
  },
  {
   "cell_type": "markdown",
   "metadata": {
    "slideshow": {
     "slide_type": "slide"
    }
   },
   "source": [
    "# DrJava 설치/실행\n",
    "\n",
    "* www.drjava.org로 가서 ’Download Jar File’ 선택해서 다운로드\n",
    "* 별도의 설치는 필요하지 않고, 단순하게 jar실행"
   ]
  },
  {
   "cell_type": "code",
   "execution_count": null,
   "metadata": {
    "collapsed": false,
    "slideshow": {
     "slide_type": "subslide"
    }
   },
   "outputs": [],
   "source": [
    "!ls -l /home/jsl/Downloads/*.jar"
   ]
  },
  {
   "cell_type": "code",
   "execution_count": null,
   "metadata": {
    "collapsed": false,
    "scrolled": true,
    "slideshow": {
     "slide_type": "subslide"
    }
   },
   "outputs": [
    {
     "name": "stdout",
     "output_type": "stream",
     "text": [
      "Picked up JAVA_TOOL_OPTIONS: -javaagent:/usr/share/java/jayatanaag.jar \r\n"
     ]
    }
   ],
   "source": [
    "!java -jar /home/jsl/Downloads/drjava-stable-20140826-r5761.jar"
   ]
  },
  {
   "cell_type": "markdown",
   "metadata": {
    "slideshow": {
     "slide_type": "slide"
    }
   },
   "source": [
    "# Git\n",
    "\n",
    "* client설치\n",
    "    * sudo apt-get install git\n",
    "* github.com에서 Sign in\n",
    "\n"
   ]
  },
  {
   "cell_type": "markdown",
   "metadata": {
    "slideshow": {
     "slide_type": "slide"
    }
   },
   "source": [
    "# Create a new repository"
   ]
  },
  {
   "cell_type": "code",
   "execution_count": 24,
   "metadata": {
    "collapsed": false,
    "slideshow": {
     "slide_type": "subslide"
    }
   },
   "outputs": [
    {
     "ename": "SyntaxError",
     "evalue": "invalid syntax (<ipython-input-24-0e08f131b2ca>, line 6)",
     "output_type": "error",
     "traceback": [
      "\u001b[1;36m  File \u001b[1;32m\"<ipython-input-24-0e08f131b2ca>\"\u001b[1;36m, line \u001b[1;32m6\u001b[0m\n\u001b[1;33m    os.chdir($HOME+'/Code/git/bb/sd')\u001b[0m\n\u001b[1;37m             ^\u001b[0m\n\u001b[1;31mSyntaxError\u001b[0m\u001b[1;31m:\u001b[0m invalid syntax\n"
     ]
    }
   ],
   "source": [
    "import os\n",
    "olddir=os.getcwd()\n",
    "#os.mkdir(\"/tmp/j2/\")\n",
    "os.chdir(\"/tmp/j2/\")\n",
    "print os.getcwd()\n",
    "os.chdir('/Code/git/bb/sd')\n",
    "print os.getcwd()"
   ]
  },
  {
   "cell_type": "code",
   "execution_count": 12,
   "metadata": {
    "collapsed": false,
    "scrolled": false,
    "slideshow": {
     "slide_type": "subslide"
    }
   },
   "outputs": [
    {
     "name": "stdout",
     "output_type": "stream",
     "text": [
      "Reinitialized existing Git repository in /tmp/j2/.git/\n",
      "total 12\n",
      "drwxrwxr-x  3 jsl  jsl  4096  8월 31 15:32 .\n",
      "drwxrwxrwt 33 root root 4096  8월 31 15:28 ..\n",
      "drwxrwxr-x  7 jsl  jsl  4096  8월 31 15:33 .git\n"
     ]
    }
   ],
   "source": [
    "!git init\n",
    "!ls -la"
   ]
  },
  {
   "cell_type": "markdown",
   "metadata": {
    "slideshow": {
     "slide_type": "slide"
    }
   },
   "source": [
    "# checkout repo\n",
    "* git clone /path/to/repo\n",
    "\n",
    "# working directory -> index -> head\n",
    "\n",
    "# add (move to index) and commit (move to head)\n",
    "* git add \n",
    "* git commit -m \"messge\"\n",
    "\n",
    "# push\n",
    "* git push origin master\n",
    "\n",
    "# 이력/상태 보기\n",
    "git log\n",
    "git status\n",
    "\n",
    "# workflow\n",
    "\n",
    "## create my project\n",
    "* git init\n",
    "* git add\n",
    "* git commit\n",
    "* git push\n",
    "\n",
    "## 작업을 하고 나서\n",
    "* git status\n",
    "* git add\n",
    "* git commit\n",
    "* git push\n",
    "\n",
    "## 다른 곳에 가서\n",
    "\n",
    "### 처음\n",
    "* 디렉토리를 만들고\n",
    "* git clone\n",
    "\n",
    "### 다음부터는\n",
    "* git status\n",
    "* git pull\n"
   ]
  },
  {
   "cell_type": "markdown",
   "metadata": {
    "slideshow": {
     "slide_type": "slide"
    }
   },
   "source": [
    "# UML 소개\n",
    "\n",
    "* class diagram\n",
    "* object diagram\n",
    "* composite structure diagram\n",
    "* deployment diagram\n",
    "* component diagram\n",
    "* package diagram\n",
    "\n",
    "* activity diagram\n",
    "* state machine diagram\n",
    "* use case diagram\n",
    "* interaction diagram\n",
    "    * sequence diagram\n",
    "    * interaction overview diagram\n",
    "    * communication diagram\n",
    "    * timing diagram"
   ]
  },
  {
   "cell_type": "markdown",
   "metadata": {
    "slideshow": {
     "slide_type": "slide"
    }
   },
   "source": [
    "# Class Diagram with PlantUML"
   ]
  },
  {
   "cell_type": "code",
   "execution_count": 3,
   "metadata": {
    "collapsed": false,
    "slideshow": {
     "slide_type": "slide"
    }
   },
   "outputs": [
    {
     "name": "stdout",
     "output_type": "stream",
     "text": [
      "Installed plantuml_magics.py. To use it, type:\n",
      "  %load_ext plantuml_magics\n"
     ]
    }
   ],
   "source": [
    "%install_ext https://raw.githubusercontent.com/sberke/ipython-plantuml/master/plantuml_magics.py"
   ]
  },
  {
   "cell_type": "code",
   "execution_count": 4,
   "metadata": {
    "collapsed": false,
    "slideshow": {
     "slide_type": "slide"
    }
   },
   "outputs": [],
   "source": [
    "%load_ext plantuml_magics"
   ]
  },
  {
   "cell_type": "code",
   "execution_count": 5,
   "metadata": {
    "collapsed": false,
    "slideshow": {
     "slide_type": "slide"
    }
   },
   "outputs": [
    {
     "data": {
      "text/plain": [
       "['./plantuml.jar']"
      ]
     },
     "execution_count": 5,
     "metadata": {},
     "output_type": "execute_result"
    }
   ],
   "source": [
    "import glob\n",
    "glob.glob(r'./*.jar')"
   ]
  },
  {
   "cell_type": "markdown",
   "metadata": {
    "slideshow": {
     "slide_type": "slide"
    }
   },
   "source": [
    "## class diagram\n",
    "\n",
    "* class\n",
    "    * 속성\n",
    "    * 함수\n",
    "* visibility\n",
    "\n",
    "\n",
    "\n",
    "\n",
    "\n",
    "\n",
    "| 접근제어자 | 표기법 | 설명 |\n",
    "|---|:---:|---|\n",
    "|public| + |누구나 값을 볼 수 있슴\n",
    "|private|-|자신만 값을 볼 수 있슴\n",
    "|protected|#|가족만이 값을 볼 수 있슴"
   ]
  },
  {
   "cell_type": "code",
   "execution_count": 6,
   "metadata": {
    "collapsed": false,
    "slideshow": {
     "slide_type": "slide"
    }
   },
   "outputs": [
    {
     "data": {
      "image/svg+xml": [
       "<svg height=\"116px\" style=\"width:106px;height:116px;\" version=\"1.1\" viewBox=\"0 0 106 116\" width=\"106px\" xmlns=\"http://www.w3.org/2000/svg\" xmlns:xlink=\"http://www.w3.org/1999/xlink\"><defs><filter height=\"300%\" id=\"f1\" width=\"300%\" x=\"-1\" y=\"-1\"><feGaussianBlur result=\"blurOut\" stdDeviation=\"2.0\"/><feColorMatrix in=\"blurOut\" result=\"blurOut2\" type=\"matrix\" values=\"0 0 0 0 0 0 0 0 0 0 0 0 0 0 0 0 0 0 .4 0\"/><feOffset dx=\"4.0\" dy=\"4.0\" in=\"blurOut2\" result=\"blurOut3\"/><feBlend in=\"SourceGraphic\" in2=\"blurOut3\" mode=\"normal\"/></filter></defs><g><rect fill=\"#FEFECE\" filter=\"url(#f1)\" height=\"99.2188\" style=\"stroke: #A80036; stroke-width: 1.5;\" width=\"91\" x=\"6\" y=\"8\"/><ellipse cx=\"25.05\" cy=\"24\" fill=\"#ADD1B2\" rx=\"11\" ry=\"11\" style=\"stroke: #A80036; stroke-width: 1.0;\"/><path d=\"M28.0188,29.6406 Q27.4406,29.9375 26.8,30.0859 Q26.1594,30.2344 25.4563,30.2344 Q22.9563,30.2344 21.6359,28.5859 Q20.3156,26.9375 20.3156,23.8125 Q20.3156,20.6875 21.6359,19.0313 Q22.9563,17.375 25.4563,17.375 Q26.1594,17.375 26.8078,17.5313 Q27.4563,17.6875 28.0188,17.9844 L28.0188,20.7031 Q27.3938,20.125 26.8,19.8516 Q26.2063,19.5781 25.5813,19.5781 Q24.2375,19.5781 23.55,20.6484 Q22.8625,21.7188 22.8625,23.8125 Q22.8625,25.9063 23.55,26.9766 Q24.2375,28.0469 25.5813,28.0469 Q26.2063,28.0469 26.8,27.7734 Q27.3938,27.5 28.0188,26.9219 L28.0188,29.6406 Z \"/><text fill=\"#000000\" font-family=\"sans-serif\" font-size=\"12\" lengthAdjust=\"spacingAndGlyphs\" textLength=\"50\" x=\"39.95\" y=\"28.1543\">Student</text><line style=\"stroke: #A80036; stroke-width: 1.5;\" x1=\"7\" x2=\"96\" y1=\"40\" y2=\"40\"/><rect fill=\"none\" height=\"6\" style=\"stroke: #C82930; stroke-width: 1.0;\" width=\"6\" x=\"14\" y=\"48.9023\"/><text fill=\"#000000\" font-family=\"sans-serif\" font-size=\"11\" lengthAdjust=\"spacingAndGlyphs\" textLength=\"65\" x=\"26\" y=\"54.2104\">stundentNo</text><polygon fill=\"none\" points=\"17,59.707,21,63.707,17,67.707,13,63.707\" style=\"stroke: #B38D22; stroke-width: 1.0;\"/><text fill=\"#000000\" font-family=\"sans-serif\" font-size=\"11\" lengthAdjust=\"spacingAndGlyphs\" textLength=\"31\" x=\"26\" y=\"67.0151\">field1</text><line style=\"stroke: #A80036; stroke-width: 1.5;\" x1=\"7\" x2=\"96\" y1=\"73.6094\" y2=\"73.6094\"/><ellipse cx=\"17\" cy=\"85.5117\" fill=\"#84BE84\" rx=\"3\" ry=\"3\" style=\"stroke: #038048; stroke-width: 1.0;\"/><text fill=\"#000000\" font-family=\"sans-serif\" font-size=\"11\" lengthAdjust=\"spacingAndGlyphs\" textLength=\"58\" x=\"26\" y=\"87.8198\">method1()</text><ellipse cx=\"17\" cy=\"98.3164\" fill=\"#84BE84\" rx=\"3\" ry=\"3\" style=\"stroke: #038048; stroke-width: 1.0;\"/><text fill=\"#000000\" font-family=\"sans-serif\" font-size=\"11\" lengthAdjust=\"spacingAndGlyphs\" textLength=\"58\" x=\"26\" y=\"100.6245\">method2()</text></g></svg>"
      ],
      "text/plain": [
       "<IPython.core.display.SVG object>"
      ]
     },
     "execution_count": 6,
     "metadata": {},
     "output_type": "execute_result"
    }
   ],
   "source": [
    "%%plantuml\n",
    "\n",
    "@startuml\n",
    "class Student {\n",
    "  -stundentNo\n",
    "  #field1\n",
    "  +method1()\n",
    "  +method2()\n",
    "}\n",
    "@enduml\n"
   ]
  },
  {
   "cell_type": "markdown",
   "metadata": {
    "slideshow": {
     "slide_type": "slide"
    }
   },
   "source": [
    "# 관계\n",
    "\n",
    "* 연관관계\n",
    "* 일반화관계\n",
    "* 집합관계\n",
    "* 의존관계\n",
    "* 실체화관계"
   ]
  },
  {
   "cell_type": "code",
   "execution_count": 9,
   "metadata": {
    "collapsed": false,
    "slideshow": {
     "slide_type": "slide"
    }
   },
   "outputs": [
    {
     "data": {
      "image/svg+xml": [
       "<svg height=\"120.4526px\" style=\"width:793px;height:120px;\" version=\"1.1\" viewBox=\"0 0 793 120\" width=\"793.7337px\" xmlns=\"http://www.w3.org/2000/svg\" xmlns:xlink=\"http://www.w3.org/1999/xlink\"><defs><filter height=\"300%\" id=\"f1\" width=\"300%\" x=\"-1\" y=\"-1\"><feGaussianBlur result=\"blurOut\" stdDeviation=\"1.392515230635335\"/><feColorMatrix in=\"blurOut\" result=\"blurOut2\" type=\"matrix\" values=\"0 0 0 0 0 0 0 0 0 0 0 0 0 0 0 0 0 0 .4 0\"/><feOffset dx=\"2.78503046127067\" dy=\"2.78503046127067\" in=\"blurOut2\" result=\"blurOut3\"/><feBlend in=\"SourceGraphic\" in2=\"blurOut3\" mode=\"normal\"/></filter></defs><g><rect fill=\"#FEFECE\" filter=\"url(#f1)\" height=\"33.4204\" style=\"stroke: #A80036; stroke-width: 1.0443864229765012;\" width=\"56.3969\" x=\"4.1775\" y=\"5.5701\"/><ellipse cx=\"14.6214\" cy=\"16.7102\" fill=\"#ADD1B2\" rx=\"7.6588\" ry=\"7.6588\" style=\"stroke: #A80036; stroke-width: 0.6962576153176675;\"/><path d=\"M16.6884,20.6375 Q16.2859,20.8442 15.8399,20.9476 Q15.3938,21.0509 14.9043,21.0509 Q13.1636,21.0509 12.2443,19.9032 Q11.3251,18.7554 11.3251,16.5796 Q11.3251,14.4038 12.2443,13.2507 Q13.1636,12.0975 14.9043,12.0975 Q15.3938,12.0975 15.8453,12.2063 Q16.2968,12.3151 16.6884,12.5218 L16.6884,14.4147 Q16.2533,14.0122 15.8399,13.8218 Q15.4265,13.6314 14.9913,13.6314 Q14.0557,13.6314 13.577,14.3766 Q13.0983,15.1218 13.0983,16.5796 Q13.0983,18.0374 13.577,18.7826 Q14.0557,19.5279 14.9913,19.5279 Q15.4265,19.5279 15.8399,19.3375 Q16.2533,19.1471 16.6884,18.7446 L16.6884,20.6375 Z \"/><text fill=\"#000000\" font-family=\"sans-serif\" font-size=\"8.3551\" lengthAdjust=\"spacingAndGlyphs\" textLength=\"34.1166\" x=\"24.369\" y=\"19.6026\">Class01</text><line style=\"stroke: #A80036; stroke-width: 1.0443864229765012;\" x1=\"4.8738\" x2=\"59.8782\" y1=\"27.8503\" y2=\"27.8503\"/><line style=\"stroke: #A80036; stroke-width: 1.0443864229765012;\" x1=\"4.8738\" x2=\"59.8782\" y1=\"33.4204\" y2=\"33.4204\"/><rect fill=\"#FEFECE\" filter=\"url(#f1)\" height=\"33.4204\" style=\"stroke: #A80036; stroke-width: 1.0443864229765012;\" width=\"56.3969\" x=\"4.1775\" y=\"80.7659\"/><ellipse cx=\"14.6214\" cy=\"91.906\" fill=\"#ADD1B2\" rx=\"7.6588\" ry=\"7.6588\" style=\"stroke: #A80036; stroke-width: 0.6962576153176675;\"/><path d=\"M16.6884,95.8333 Q16.2859,96.04 15.8399,96.1434 Q15.3938,96.2467 14.9043,96.2467 Q13.1636,96.2467 12.2443,95.099 Q11.3251,93.9513 11.3251,91.7755 Q11.3251,89.5997 12.2443,88.4465 Q13.1636,87.2933 14.9043,87.2933 Q15.3938,87.2933 15.8453,87.4021 Q16.2968,87.5109 16.6884,87.7176 L16.6884,89.6105 Q16.2533,89.208 15.8399,89.0176 Q15.4265,88.8272 14.9913,88.8272 Q14.0557,88.8272 13.577,89.5725 Q13.0983,90.3177 13.0983,91.7755 Q13.0983,93.2332 13.577,93.9785 Q14.0557,94.7237 14.9913,94.7237 Q15.4265,94.7237 15.8399,94.5333 Q16.2533,94.3429 16.6884,93.9404 L16.6884,95.8333 Z \"/><text fill=\"#000000\" font-family=\"sans-serif\" font-size=\"8.3551\" lengthAdjust=\"spacingAndGlyphs\" textLength=\"34.1166\" x=\"24.369\" y=\"94.7985\">Class02</text><line style=\"stroke: #A80036; stroke-width: 1.0443864229765012;\" x1=\"4.8738\" x2=\"59.8782\" y1=\"103.0461\" y2=\"103.0461\"/><line style=\"stroke: #A80036; stroke-width: 1.0443864229765012;\" x1=\"4.8738\" x2=\"59.8782\" y1=\"108.6162\" y2=\"108.6162\"/><rect fill=\"#FEFECE\" filter=\"url(#f1)\" height=\"33.4204\" style=\"stroke: #A80036; stroke-width: 1.0443864229765012;\" width=\"56.3969\" x=\"84.9434\" y=\"5.5701\"/><ellipse cx=\"95.3873\" cy=\"16.7102\" fill=\"#ADD1B2\" rx=\"7.6588\" ry=\"7.6588\" style=\"stroke: #A80036; stroke-width: 0.6962576153176675;\"/><path d=\"M97.4543,20.6375 Q97.0518,20.8442 96.6057,20.9476 Q96.1597,21.0509 95.6701,21.0509 Q93.9295,21.0509 93.0102,19.9032 Q92.0909,18.7554 92.0909,16.5796 Q92.0909,14.4038 93.0102,13.2507 Q93.9295,12.0975 95.6701,12.0975 Q96.1597,12.0975 96.6112,12.2063 Q97.0627,12.3151 97.4543,12.5218 L97.4543,14.4147 Q97.0191,14.0122 96.6057,13.8218 Q96.1923,13.6314 95.7572,13.6314 Q94.8216,13.6314 94.3429,14.3766 Q93.8642,15.1218 93.8642,16.5796 Q93.8642,18.0374 94.3429,18.7826 Q94.8216,19.5279 95.7572,19.5279 Q96.1923,19.5279 96.6057,19.3375 Q97.0191,19.1471 97.4543,18.7446 L97.4543,20.6375 Z \"/><text fill=\"#000000\" font-family=\"sans-serif\" font-size=\"8.3551\" lengthAdjust=\"spacingAndGlyphs\" textLength=\"34.1166\" x=\"105.1349\" y=\"19.6026\">Class03</text><line style=\"stroke: #A80036; stroke-width: 1.0443864229765012;\" x1=\"85.6397\" x2=\"140.644\" y1=\"27.8503\" y2=\"27.8503\"/><line style=\"stroke: #A80036; stroke-width: 1.0443864229765012;\" x1=\"85.6397\" x2=\"140.644\" y1=\"33.4204\" y2=\"33.4204\"/><rect fill=\"#FEFECE\" filter=\"url(#f1)\" height=\"33.4204\" style=\"stroke: #A80036; stroke-width: 1.0443864229765012;\" width=\"56.3969\" x=\"84.9434\" y=\"80.7659\"/><ellipse cx=\"95.3873\" cy=\"91.906\" fill=\"#ADD1B2\" rx=\"7.6588\" ry=\"7.6588\" style=\"stroke: #A80036; stroke-width: 0.6962576153176675;\"/><path d=\"M97.4543,95.8333 Q97.0518,96.04 96.6057,96.1434 Q96.1597,96.2467 95.6701,96.2467 Q93.9295,96.2467 93.0102,95.099 Q92.0909,93.9513 92.0909,91.7755 Q92.0909,89.5997 93.0102,88.4465 Q93.9295,87.2933 95.6701,87.2933 Q96.1597,87.2933 96.6112,87.4021 Q97.0627,87.5109 97.4543,87.7176 L97.4543,89.6105 Q97.0191,89.208 96.6057,89.0176 Q96.1923,88.8272 95.7572,88.8272 Q94.8216,88.8272 94.3429,89.5725 Q93.8642,90.3177 93.8642,91.7755 Q93.8642,93.2332 94.3429,93.9785 Q94.8216,94.7237 95.7572,94.7237 Q96.1923,94.7237 96.6057,94.5333 Q97.0191,94.3429 97.4543,93.9404 L97.4543,95.8333 Z \"/><text fill=\"#000000\" font-family=\"sans-serif\" font-size=\"8.3551\" lengthAdjust=\"spacingAndGlyphs\" textLength=\"34.1166\" x=\"105.1349\" y=\"94.7985\">Class04</text><line style=\"stroke: #A80036; stroke-width: 1.0443864229765012;\" x1=\"85.6397\" x2=\"140.644\" y1=\"103.0461\" y2=\"103.0461\"/><line style=\"stroke: #A80036; stroke-width: 1.0443864229765012;\" x1=\"85.6397\" x2=\"140.644\" y1=\"108.6162\" y2=\"108.6162\"/><rect fill=\"#FEFECE\" filter=\"url(#f1)\" height=\"33.4204\" style=\"stroke: #A80036; stroke-width: 1.0443864229765012;\" width=\"56.3969\" x=\"165.7093\" y=\"5.5701\"/><ellipse cx=\"176.1532\" cy=\"16.7102\" fill=\"#ADD1B2\" rx=\"7.6588\" ry=\"7.6588\" style=\"stroke: #A80036; stroke-width: 0.6962576153176675;\"/><path d=\"M178.2202,20.6375 Q177.8177,20.8442 177.3716,20.9476 Q176.9256,21.0509 176.436,21.0509 Q174.6954,21.0509 173.7761,19.9032 Q172.8568,18.7554 172.8568,16.5796 Q172.8568,14.4038 173.7761,13.2507 Q174.6954,12.0975 176.436,12.0975 Q176.9256,12.0975 177.3771,12.2063 Q177.8285,12.3151 178.2202,12.5218 L178.2202,14.4147 Q177.785,14.0122 177.3716,13.8218 Q176.9582,13.6314 176.5231,13.6314 Q175.5875,13.6314 175.1088,14.3766 Q174.6301,15.1218 174.6301,16.5796 Q174.6301,18.0374 175.1088,18.7826 Q175.5875,19.5279 176.5231,19.5279 Q176.9582,19.5279 177.3716,19.3375 Q177.785,19.1471 178.2202,18.7446 L178.2202,20.6375 Z \"/><text fill=\"#000000\" font-family=\"sans-serif\" font-size=\"8.3551\" lengthAdjust=\"spacingAndGlyphs\" textLength=\"34.1166\" x=\"185.9008\" y=\"19.6026\">Class05</text><line style=\"stroke: #A80036; stroke-width: 1.0443864229765012;\" x1=\"166.4056\" x2=\"221.4099\" y1=\"27.8503\" y2=\"27.8503\"/><line style=\"stroke: #A80036; stroke-width: 1.0443864229765012;\" x1=\"166.4056\" x2=\"221.4099\" y1=\"33.4204\" y2=\"33.4204\"/><rect fill=\"#FEFECE\" filter=\"url(#f1)\" height=\"33.4204\" style=\"stroke: #A80036; stroke-width: 1.0443864229765012;\" width=\"56.3969\" x=\"165.7093\" y=\"80.7659\"/><ellipse cx=\"176.1532\" cy=\"91.906\" fill=\"#ADD1B2\" rx=\"7.6588\" ry=\"7.6588\" style=\"stroke: #A80036; stroke-width: 0.6962576153176675;\"/><path d=\"M178.2202,95.8333 Q177.8177,96.04 177.3716,96.1434 Q176.9256,96.2467 176.436,96.2467 Q174.6954,96.2467 173.7761,95.099 Q172.8568,93.9513 172.8568,91.7755 Q172.8568,89.5997 173.7761,88.4465 Q174.6954,87.2933 176.436,87.2933 Q176.9256,87.2933 177.3771,87.4021 Q177.8285,87.5109 178.2202,87.7176 L178.2202,89.6105 Q177.785,89.208 177.3716,89.0176 Q176.9582,88.8272 176.5231,88.8272 Q175.5875,88.8272 175.1088,89.5725 Q174.6301,90.3177 174.6301,91.7755 Q174.6301,93.2332 175.1088,93.9785 Q175.5875,94.7237 176.5231,94.7237 Q176.9582,94.7237 177.3716,94.5333 Q177.785,94.3429 178.2202,93.9404 L178.2202,95.8333 Z \"/><text fill=\"#000000\" font-family=\"sans-serif\" font-size=\"8.3551\" lengthAdjust=\"spacingAndGlyphs\" textLength=\"34.1166\" x=\"185.9008\" y=\"94.7985\">Class06</text><line style=\"stroke: #A80036; stroke-width: 1.0443864229765012;\" x1=\"166.4056\" x2=\"221.4099\" y1=\"103.0461\" y2=\"103.0461\"/><line style=\"stroke: #A80036; stroke-width: 1.0443864229765012;\" x1=\"166.4056\" x2=\"221.4099\" y1=\"108.6162\" y2=\"108.6162\"/><rect fill=\"#FEFECE\" filter=\"url(#f1)\" height=\"33.4204\" style=\"stroke: #A80036; stroke-width: 1.0443864229765012;\" width=\"56.3969\" x=\"246.4752\" y=\"5.5701\"/><ellipse cx=\"256.9191\" cy=\"16.7102\" fill=\"#ADD1B2\" rx=\"7.6588\" ry=\"7.6588\" style=\"stroke: #A80036; stroke-width: 0.6962576153176675;\"/><path d=\"M258.9861,20.6375 Q258.5836,20.8442 258.1375,20.9476 Q257.6915,21.0509 257.2019,21.0509 Q255.4613,21.0509 254.542,19.9032 Q253.6227,18.7554 253.6227,16.5796 Q253.6227,14.4038 254.542,13.2507 Q255.4613,12.0975 257.2019,12.0975 Q257.6915,12.0975 258.143,12.2063 Q258.5944,12.3151 258.9861,12.5218 L258.9861,14.4147 Q258.5509,14.0122 258.1375,13.8218 Q257.7241,13.6314 257.2889,13.6314 Q256.3534,13.6314 255.8747,14.3766 Q255.396,15.1218 255.396,16.5796 Q255.396,18.0374 255.8747,18.7826 Q256.3534,19.5279 257.2889,19.5279 Q257.7241,19.5279 258.1375,19.3375 Q258.5509,19.1471 258.9861,18.7446 L258.9861,20.6375 Z \"/><text fill=\"#000000\" font-family=\"sans-serif\" font-size=\"8.3551\" lengthAdjust=\"spacingAndGlyphs\" textLength=\"34.1166\" x=\"266.6667\" y=\"19.6026\">Class07</text><line style=\"stroke: #A80036; stroke-width: 1.0443864229765012;\" x1=\"247.1715\" x2=\"302.1758\" y1=\"27.8503\" y2=\"27.8503\"/><line style=\"stroke: #A80036; stroke-width: 1.0443864229765012;\" x1=\"247.1715\" x2=\"302.1758\" y1=\"33.4204\" y2=\"33.4204\"/><rect fill=\"#FEFECE\" filter=\"url(#f1)\" height=\"33.4204\" style=\"stroke: #A80036; stroke-width: 1.0443864229765012;\" width=\"56.3969\" x=\"246.4752\" y=\"80.7659\"/><ellipse cx=\"256.9191\" cy=\"91.906\" fill=\"#ADD1B2\" rx=\"7.6588\" ry=\"7.6588\" style=\"stroke: #A80036; stroke-width: 0.6962576153176675;\"/><path d=\"M258.9861,95.8333 Q258.5836,96.04 258.1375,96.1434 Q257.6915,96.2467 257.2019,96.2467 Q255.4613,96.2467 254.542,95.099 Q253.6227,93.9513 253.6227,91.7755 Q253.6227,89.5997 254.542,88.4465 Q255.4613,87.2933 257.2019,87.2933 Q257.6915,87.2933 258.143,87.4021 Q258.5944,87.5109 258.9861,87.7176 L258.9861,89.6105 Q258.5509,89.208 258.1375,89.0176 Q257.7241,88.8272 257.2889,88.8272 Q256.3534,88.8272 255.8747,89.5725 Q255.396,90.3177 255.396,91.7755 Q255.396,93.2332 255.8747,93.9785 Q256.3534,94.7237 257.2889,94.7237 Q257.7241,94.7237 258.1375,94.5333 Q258.5509,94.3429 258.9861,93.9404 L258.9861,95.8333 Z \"/><text fill=\"#000000\" font-family=\"sans-serif\" font-size=\"8.3551\" lengthAdjust=\"spacingAndGlyphs\" textLength=\"34.1166\" x=\"266.6667\" y=\"94.7985\">Class08</text><line style=\"stroke: #A80036; stroke-width: 1.0443864229765012;\" x1=\"247.1715\" x2=\"302.1758\" y1=\"103.0461\" y2=\"103.0461\"/><line style=\"stroke: #A80036; stroke-width: 1.0443864229765012;\" x1=\"247.1715\" x2=\"302.1758\" y1=\"108.6162\" y2=\"108.6162\"/><rect fill=\"#FEFECE\" filter=\"url(#f1)\" height=\"33.4204\" style=\"stroke: #A80036; stroke-width: 1.0443864229765012;\" width=\"56.3969\" x=\"327.2411\" y=\"5.5701\"/><ellipse cx=\"337.6849\" cy=\"16.7102\" fill=\"#ADD1B2\" rx=\"7.6588\" ry=\"7.6588\" style=\"stroke: #A80036; stroke-width: 0.6962576153176675;\"/><path d=\"M339.752,20.6375 Q339.3494,20.8442 338.9034,20.9476 Q338.4574,21.0509 337.9678,21.0509 Q336.2272,21.0509 335.3079,19.9032 Q334.3886,18.7554 334.3886,16.5796 Q334.3886,14.4038 335.3079,13.2507 Q336.2272,12.0975 337.9678,12.0975 Q338.4574,12.0975 338.9088,12.2063 Q339.3603,12.3151 339.752,12.5218 L339.752,14.4147 Q339.3168,14.0122 338.9034,13.8218 Q338.49,13.6314 338.0548,13.6314 Q337.1192,13.6314 336.6406,14.3766 Q336.1619,15.1218 336.1619,16.5796 Q336.1619,18.0374 336.6406,18.7826 Q337.1192,19.5279 338.0548,19.5279 Q338.49,19.5279 338.9034,19.3375 Q339.3168,19.1471 339.752,18.7446 L339.752,20.6375 Z \"/><text fill=\"#000000\" font-family=\"sans-serif\" font-size=\"8.3551\" lengthAdjust=\"spacingAndGlyphs\" textLength=\"34.1166\" x=\"347.4326\" y=\"19.6026\">Class09</text><line style=\"stroke: #A80036; stroke-width: 1.0443864229765012;\" x1=\"327.9373\" x2=\"382.9417\" y1=\"27.8503\" y2=\"27.8503\"/><line style=\"stroke: #A80036; stroke-width: 1.0443864229765012;\" x1=\"327.9373\" x2=\"382.9417\" y1=\"33.4204\" y2=\"33.4204\"/><rect fill=\"#FEFECE\" filter=\"url(#f1)\" height=\"33.4204\" style=\"stroke: #A80036; stroke-width: 1.0443864229765012;\" width=\"56.3969\" x=\"327.2411\" y=\"80.7659\"/><ellipse cx=\"337.6849\" cy=\"91.906\" fill=\"#ADD1B2\" rx=\"7.6588\" ry=\"7.6588\" style=\"stroke: #A80036; stroke-width: 0.6962576153176675;\"/><path d=\"M339.752,95.8333 Q339.3494,96.04 338.9034,96.1434 Q338.4574,96.2467 337.9678,96.2467 Q336.2272,96.2467 335.3079,95.099 Q334.3886,93.9513 334.3886,91.7755 Q334.3886,89.5997 335.3079,88.4465 Q336.2272,87.2933 337.9678,87.2933 Q338.4574,87.2933 338.9088,87.4021 Q339.3603,87.5109 339.752,87.7176 L339.752,89.6105 Q339.3168,89.208 338.9034,89.0176 Q338.49,88.8272 338.0548,88.8272 Q337.1192,88.8272 336.6406,89.5725 Q336.1619,90.3177 336.1619,91.7755 Q336.1619,93.2332 336.6406,93.9785 Q337.1192,94.7237 338.0548,94.7237 Q338.49,94.7237 338.9034,94.5333 Q339.3168,94.3429 339.752,93.9404 L339.752,95.8333 Z \"/><text fill=\"#000000\" font-family=\"sans-serif\" font-size=\"8.3551\" lengthAdjust=\"spacingAndGlyphs\" textLength=\"34.1166\" x=\"347.4326\" y=\"94.7985\">Class10</text><line style=\"stroke: #A80036; stroke-width: 1.0443864229765012;\" x1=\"327.9373\" x2=\"382.9417\" y1=\"103.0461\" y2=\"103.0461\"/><line style=\"stroke: #A80036; stroke-width: 1.0443864229765012;\" x1=\"327.9373\" x2=\"382.9417\" y1=\"108.6162\" y2=\"108.6162\"/><rect fill=\"#FEFECE\" filter=\"url(#f1)\" height=\"33.4204\" style=\"stroke: #A80036; stroke-width: 1.0443864229765012;\" width=\"56.3969\" x=\"408.007\" y=\"5.5701\"/><ellipse cx=\"418.4508\" cy=\"16.7102\" fill=\"#ADD1B2\" rx=\"7.6588\" ry=\"7.6588\" style=\"stroke: #A80036; stroke-width: 0.6962576153176675;\"/><path d=\"M420.5178,20.6375 Q420.1153,20.8442 419.6693,20.9476 Q419.2232,21.0509 418.7337,21.0509 Q416.993,21.0509 416.0738,19.9032 Q415.1545,18.7554 415.1545,16.5796 Q415.1545,14.4038 416.0738,13.2507 Q416.993,12.0975 418.7337,12.0975 Q419.2232,12.0975 419.6747,12.2063 Q420.1262,12.3151 420.5178,12.5218 L420.5178,14.4147 Q420.0827,14.0122 419.6693,13.8218 Q419.2559,13.6314 418.8207,13.6314 Q417.8851,13.6314 417.4064,14.3766 Q416.9278,15.1218 416.9278,16.5796 Q416.9278,18.0374 417.4064,18.7826 Q417.8851,19.5279 418.8207,19.5279 Q419.2559,19.5279 419.6693,19.3375 Q420.0827,19.1471 420.5178,18.7446 L420.5178,20.6375 Z \"/><text fill=\"#000000\" font-family=\"sans-serif\" font-size=\"8.3551\" lengthAdjust=\"spacingAndGlyphs\" textLength=\"34.1166\" x=\"428.1984\" y=\"19.6026\">Class11</text><line style=\"stroke: #A80036; stroke-width: 1.0443864229765012;\" x1=\"408.7032\" x2=\"463.7076\" y1=\"27.8503\" y2=\"27.8503\"/><line style=\"stroke: #A80036; stroke-width: 1.0443864229765012;\" x1=\"408.7032\" x2=\"463.7076\" y1=\"33.4204\" y2=\"33.4204\"/><rect fill=\"#FEFECE\" filter=\"url(#f1)\" height=\"33.4204\" style=\"stroke: #A80036; stroke-width: 1.0443864229765012;\" width=\"56.3969\" x=\"408.007\" y=\"80.7659\"/><ellipse cx=\"418.4508\" cy=\"91.906\" fill=\"#ADD1B2\" rx=\"7.6588\" ry=\"7.6588\" style=\"stroke: #A80036; stroke-width: 0.6962576153176675;\"/><path d=\"M420.5178,95.8333 Q420.1153,96.04 419.6693,96.1434 Q419.2232,96.2467 418.7337,96.2467 Q416.993,96.2467 416.0738,95.099 Q415.1545,93.9513 415.1545,91.7755 Q415.1545,89.5997 416.0738,88.4465 Q416.993,87.2933 418.7337,87.2933 Q419.2232,87.2933 419.6747,87.4021 Q420.1262,87.5109 420.5178,87.7176 L420.5178,89.6105 Q420.0827,89.208 419.6693,89.0176 Q419.2559,88.8272 418.8207,88.8272 Q417.8851,88.8272 417.4064,89.5725 Q416.9278,90.3177 416.9278,91.7755 Q416.9278,93.2332 417.4064,93.9785 Q417.8851,94.7237 418.8207,94.7237 Q419.2559,94.7237 419.6693,94.5333 Q420.0827,94.3429 420.5178,93.9404 L420.5178,95.8333 Z \"/><text fill=\"#000000\" font-family=\"sans-serif\" font-size=\"8.3551\" lengthAdjust=\"spacingAndGlyphs\" textLength=\"34.1166\" x=\"428.1984\" y=\"94.7985\">Class12</text><line style=\"stroke: #A80036; stroke-width: 1.0443864229765012;\" x1=\"408.7032\" x2=\"463.7076\" y1=\"103.0461\" y2=\"103.0461\"/><line style=\"stroke: #A80036; stroke-width: 1.0443864229765012;\" x1=\"408.7032\" x2=\"463.7076\" y1=\"108.6162\" y2=\"108.6162\"/><rect fill=\"#FEFECE\" filter=\"url(#f1)\" height=\"33.4204\" style=\"stroke: #A80036; stroke-width: 1.0443864229765012;\" width=\"56.3969\" x=\"488.7728\" y=\"5.5701\"/><ellipse cx=\"499.2167\" cy=\"16.7102\" fill=\"#ADD1B2\" rx=\"7.6588\" ry=\"7.6588\" style=\"stroke: #A80036; stroke-width: 0.6962576153176675;\"/><path d=\"M501.2837,20.6375 Q500.8812,20.8442 500.4352,20.9476 Q499.9891,21.0509 499.4996,21.0509 Q497.7589,21.0509 496.8396,19.9032 Q495.9204,18.7554 495.9204,16.5796 Q495.9204,14.4038 496.8396,13.2507 Q497.7589,12.0975 499.4996,12.0975 Q499.9891,12.0975 500.4406,12.2063 Q500.8921,12.3151 501.2837,12.5218 L501.2837,14.4147 Q500.8486,14.0122 500.4352,13.8218 Q500.0218,13.6314 499.5866,13.6314 Q498.651,13.6314 498.1723,14.3766 Q497.6936,15.1218 497.6936,16.5796 Q497.6936,18.0374 498.1723,18.7826 Q498.651,19.5279 499.5866,19.5279 Q500.0218,19.5279 500.4352,19.3375 Q500.8486,19.1471 501.2837,18.7446 L501.2837,20.6375 Z \"/><text fill=\"#000000\" font-family=\"sans-serif\" font-size=\"8.3551\" lengthAdjust=\"spacingAndGlyphs\" textLength=\"34.1166\" x=\"508.9643\" y=\"19.6026\">Class13</text><line style=\"stroke: #A80036; stroke-width: 1.0443864229765012;\" x1=\"489.4691\" x2=\"544.4735\" y1=\"27.8503\" y2=\"27.8503\"/><line style=\"stroke: #A80036; stroke-width: 1.0443864229765012;\" x1=\"489.4691\" x2=\"544.4735\" y1=\"33.4204\" y2=\"33.4204\"/><rect fill=\"#FEFECE\" filter=\"url(#f1)\" height=\"33.4204\" style=\"stroke: #A80036; stroke-width: 1.0443864229765012;\" width=\"56.3969\" x=\"488.7728\" y=\"80.7659\"/><ellipse cx=\"499.2167\" cy=\"91.906\" fill=\"#ADD1B2\" rx=\"7.6588\" ry=\"7.6588\" style=\"stroke: #A80036; stroke-width: 0.6962576153176675;\"/><path d=\"M501.2837,95.8333 Q500.8812,96.04 500.4352,96.1434 Q499.9891,96.2467 499.4996,96.2467 Q497.7589,96.2467 496.8396,95.099 Q495.9204,93.9513 495.9204,91.7755 Q495.9204,89.5997 496.8396,88.4465 Q497.7589,87.2933 499.4996,87.2933 Q499.9891,87.2933 500.4406,87.4021 Q500.8921,87.5109 501.2837,87.7176 L501.2837,89.6105 Q500.8486,89.208 500.4352,89.0176 Q500.0218,88.8272 499.5866,88.8272 Q498.651,88.8272 498.1723,89.5725 Q497.6936,90.3177 497.6936,91.7755 Q497.6936,93.2332 498.1723,93.9785 Q498.651,94.7237 499.5866,94.7237 Q500.0218,94.7237 500.4352,94.5333 Q500.8486,94.3429 501.2837,93.9404 L501.2837,95.8333 Z \"/><text fill=\"#000000\" font-family=\"sans-serif\" font-size=\"8.3551\" lengthAdjust=\"spacingAndGlyphs\" textLength=\"34.1166\" x=\"508.9643\" y=\"94.7985\">Class14</text><line style=\"stroke: #A80036; stroke-width: 1.0443864229765012;\" x1=\"489.4691\" x2=\"544.4735\" y1=\"103.0461\" y2=\"103.0461\"/><line style=\"stroke: #A80036; stroke-width: 1.0443864229765012;\" x1=\"489.4691\" x2=\"544.4735\" y1=\"108.6162\" y2=\"108.6162\"/><rect fill=\"#FEFECE\" filter=\"url(#f1)\" height=\"33.4204\" style=\"stroke: #A80036; stroke-width: 1.0443864229765012;\" width=\"56.3969\" x=\"569.5387\" y=\"5.5701\"/><ellipse cx=\"579.9826\" cy=\"16.7102\" fill=\"#ADD1B2\" rx=\"7.6588\" ry=\"7.6588\" style=\"stroke: #A80036; stroke-width: 0.6962576153176675;\"/><path d=\"M582.0496,20.6375 Q581.6471,20.8442 581.201,20.9476 Q580.755,21.0509 580.2654,21.0509 Q578.5248,21.0509 577.6055,19.9032 Q576.6862,18.7554 576.6862,16.5796 Q576.6862,14.4038 577.6055,13.2507 Q578.5248,12.0975 580.2654,12.0975 Q580.755,12.0975 581.2065,12.2063 Q581.658,12.3151 582.0496,12.5218 L582.0496,14.4147 Q581.6144,14.0122 581.201,13.8218 Q580.7876,13.6314 580.3525,13.6314 Q579.4169,13.6314 578.9382,14.3766 Q578.4595,15.1218 578.4595,16.5796 Q578.4595,18.0374 578.9382,18.7826 Q579.4169,19.5279 580.3525,19.5279 Q580.7876,19.5279 581.201,19.3375 Q581.6144,19.1471 582.0496,18.7446 L582.0496,20.6375 Z \"/><text fill=\"#000000\" font-family=\"sans-serif\" font-size=\"8.3551\" lengthAdjust=\"spacingAndGlyphs\" textLength=\"34.1166\" x=\"589.7302\" y=\"19.6026\">Class15</text><line style=\"stroke: #A80036; stroke-width: 1.0443864229765012;\" x1=\"570.235\" x2=\"625.2393\" y1=\"27.8503\" y2=\"27.8503\"/><line style=\"stroke: #A80036; stroke-width: 1.0443864229765012;\" x1=\"570.235\" x2=\"625.2393\" y1=\"33.4204\" y2=\"33.4204\"/><rect fill=\"#FEFECE\" filter=\"url(#f1)\" height=\"33.4204\" style=\"stroke: #A80036; stroke-width: 1.0443864229765012;\" width=\"56.3969\" x=\"569.5387\" y=\"80.7659\"/><ellipse cx=\"579.9826\" cy=\"91.906\" fill=\"#ADD1B2\" rx=\"7.6588\" ry=\"7.6588\" style=\"stroke: #A80036; stroke-width: 0.6962576153176675;\"/><path d=\"M582.0496,95.8333 Q581.6471,96.04 581.201,96.1434 Q580.755,96.2467 580.2654,96.2467 Q578.5248,96.2467 577.6055,95.099 Q576.6862,93.9513 576.6862,91.7755 Q576.6862,89.5997 577.6055,88.4465 Q578.5248,87.2933 580.2654,87.2933 Q580.755,87.2933 581.2065,87.4021 Q581.658,87.5109 582.0496,87.7176 L582.0496,89.6105 Q581.6144,89.208 581.201,89.0176 Q580.7876,88.8272 580.3525,88.8272 Q579.4169,88.8272 578.9382,89.5725 Q578.4595,90.3177 578.4595,91.7755 Q578.4595,93.2332 578.9382,93.9785 Q579.4169,94.7237 580.3525,94.7237 Q580.7876,94.7237 581.201,94.5333 Q581.6144,94.3429 582.0496,93.9404 L582.0496,95.8333 Z \"/><text fill=\"#000000\" font-family=\"sans-serif\" font-size=\"8.3551\" lengthAdjust=\"spacingAndGlyphs\" textLength=\"34.1166\" x=\"589.7302\" y=\"94.7985\">Class16</text><line style=\"stroke: #A80036; stroke-width: 1.0443864229765012;\" x1=\"570.235\" x2=\"625.2393\" y1=\"103.0461\" y2=\"103.0461\"/><line style=\"stroke: #A80036; stroke-width: 1.0443864229765012;\" x1=\"570.235\" x2=\"625.2393\" y1=\"108.6162\" y2=\"108.6162\"/><rect fill=\"#FEFECE\" filter=\"url(#f1)\" height=\"33.4204\" style=\"stroke: #A80036; stroke-width: 1.0443864229765012;\" width=\"56.3969\" x=\"650.3046\" y=\"5.5701\"/><ellipse cx=\"660.7485\" cy=\"16.7102\" fill=\"#ADD1B2\" rx=\"7.6588\" ry=\"7.6588\" style=\"stroke: #A80036; stroke-width: 0.6962576153176675;\"/><path d=\"M662.8155,20.6375 Q662.413,20.8442 661.9669,20.9476 Q661.5209,21.0509 661.0313,21.0509 Q659.2907,21.0509 658.3714,19.9032 Q657.4521,18.7554 657.4521,16.5796 Q657.4521,14.4038 658.3714,13.2507 Q659.2907,12.0975 661.0313,12.0975 Q661.5209,12.0975 661.9724,12.2063 Q662.4238,12.3151 662.8155,12.5218 L662.8155,14.4147 Q662.3803,14.0122 661.9669,13.8218 Q661.5535,13.6314 661.1184,13.6314 Q660.1828,13.6314 659.7041,14.3766 Q659.2254,15.1218 659.2254,16.5796 Q659.2254,18.0374 659.7041,18.7826 Q660.1828,19.5279 661.1184,19.5279 Q661.5535,19.5279 661.9669,19.3375 Q662.3803,19.1471 662.8155,18.7446 L662.8155,20.6375 Z \"/><text fill=\"#000000\" font-family=\"sans-serif\" font-size=\"8.3551\" lengthAdjust=\"spacingAndGlyphs\" textLength=\"34.1166\" x=\"670.4961\" y=\"19.6026\">Class17</text><line style=\"stroke: #A80036; stroke-width: 1.0443864229765012;\" x1=\"651.0009\" x2=\"706.0052\" y1=\"27.8503\" y2=\"27.8503\"/><line style=\"stroke: #A80036; stroke-width: 1.0443864229765012;\" x1=\"651.0009\" x2=\"706.0052\" y1=\"33.4204\" y2=\"33.4204\"/><rect fill=\"#FEFECE\" filter=\"url(#f1)\" height=\"33.4204\" style=\"stroke: #A80036; stroke-width: 1.0443864229765012;\" width=\"56.3969\" x=\"650.3046\" y=\"80.7659\"/><ellipse cx=\"660.7485\" cy=\"91.906\" fill=\"#ADD1B2\" rx=\"7.6588\" ry=\"7.6588\" style=\"stroke: #A80036; stroke-width: 0.6962576153176675;\"/><path d=\"M662.8155,95.8333 Q662.413,96.04 661.9669,96.1434 Q661.5209,96.2467 661.0313,96.2467 Q659.2907,96.2467 658.3714,95.099 Q657.4521,93.9513 657.4521,91.7755 Q657.4521,89.5997 658.3714,88.4465 Q659.2907,87.2933 661.0313,87.2933 Q661.5209,87.2933 661.9724,87.4021 Q662.4238,87.5109 662.8155,87.7176 L662.8155,89.6105 Q662.3803,89.208 661.9669,89.0176 Q661.5535,88.8272 661.1184,88.8272 Q660.1828,88.8272 659.7041,89.5725 Q659.2254,90.3177 659.2254,91.7755 Q659.2254,93.2332 659.7041,93.9785 Q660.1828,94.7237 661.1184,94.7237 Q661.5535,94.7237 661.9669,94.5333 Q662.3803,94.3429 662.8155,93.9404 L662.8155,95.8333 Z \"/><text fill=\"#000000\" font-family=\"sans-serif\" font-size=\"8.3551\" lengthAdjust=\"spacingAndGlyphs\" textLength=\"34.1166\" x=\"670.4961\" y=\"94.7985\">Class18</text><line style=\"stroke: #A80036; stroke-width: 1.0443864229765012;\" x1=\"651.0009\" x2=\"706.0052\" y1=\"103.0461\" y2=\"103.0461\"/><line style=\"stroke: #A80036; stroke-width: 1.0443864229765012;\" x1=\"651.0009\" x2=\"706.0052\" y1=\"108.6162\" y2=\"108.6162\"/><rect fill=\"#FEFECE\" filter=\"url(#f1)\" height=\"33.4204\" style=\"stroke: #A80036; stroke-width: 1.0443864229765012;\" width=\"56.3969\" x=\"731.0705\" y=\"5.5701\"/><ellipse cx=\"741.5144\" cy=\"16.7102\" fill=\"#ADD1B2\" rx=\"7.6588\" ry=\"7.6588\" style=\"stroke: #A80036; stroke-width: 0.6962576153176675;\"/><path d=\"M743.5814,20.6375 Q743.1789,20.8442 742.7328,20.9476 Q742.2868,21.0509 741.7972,21.0509 Q740.0566,21.0509 739.1373,19.9032 Q738.218,18.7554 738.218,16.5796 Q738.218,14.4038 739.1373,13.2507 Q740.0566,12.0975 741.7972,12.0975 Q742.2868,12.0975 742.7383,12.2063 Q743.1897,12.3151 743.5814,12.5218 L743.5814,14.4147 Q743.1462,14.0122 742.7328,13.8218 Q742.3194,13.6314 741.8842,13.6314 Q740.9487,13.6314 740.47,14.3766 Q739.9913,15.1218 739.9913,16.5796 Q739.9913,18.0374 740.47,18.7826 Q740.9487,19.5279 741.8842,19.5279 Q742.3194,19.5279 742.7328,19.3375 Q743.1462,19.1471 743.5814,18.7446 L743.5814,20.6375 Z \"/><text fill=\"#000000\" font-family=\"sans-serif\" font-size=\"8.3551\" lengthAdjust=\"spacingAndGlyphs\" textLength=\"34.1166\" x=\"751.262\" y=\"19.6026\">Class19</text><line style=\"stroke: #A80036; stroke-width: 1.0443864229765012;\" x1=\"731.7668\" x2=\"786.7711\" y1=\"27.8503\" y2=\"27.8503\"/><line style=\"stroke: #A80036; stroke-width: 1.0443864229765012;\" x1=\"731.7668\" x2=\"786.7711\" y1=\"33.4204\" y2=\"33.4204\"/><rect fill=\"#FEFECE\" filter=\"url(#f1)\" height=\"33.4204\" style=\"stroke: #A80036; stroke-width: 1.0443864229765012;\" width=\"56.3969\" x=\"731.0705\" y=\"80.7659\"/><ellipse cx=\"741.5144\" cy=\"91.906\" fill=\"#ADD1B2\" rx=\"7.6588\" ry=\"7.6588\" style=\"stroke: #A80036; stroke-width: 0.6962576153176675;\"/><path d=\"M743.5814,95.8333 Q743.1789,96.04 742.7328,96.1434 Q742.2868,96.2467 741.7972,96.2467 Q740.0566,96.2467 739.1373,95.099 Q738.218,93.9513 738.218,91.7755 Q738.218,89.5997 739.1373,88.4465 Q740.0566,87.2933 741.7972,87.2933 Q742.2868,87.2933 742.7383,87.4021 Q743.1897,87.5109 743.5814,87.7176 L743.5814,89.6105 Q743.1462,89.208 742.7328,89.0176 Q742.3194,88.8272 741.8842,88.8272 Q740.9487,88.8272 740.47,89.5725 Q739.9913,90.3177 739.9913,91.7755 Q739.9913,93.2332 740.47,93.9785 Q740.9487,94.7237 741.8842,94.7237 Q742.3194,94.7237 742.7328,94.5333 Q743.1462,94.3429 743.5814,93.9404 L743.5814,95.8333 Z \"/><text fill=\"#000000\" font-family=\"sans-serif\" font-size=\"8.3551\" lengthAdjust=\"spacingAndGlyphs\" textLength=\"34.1166\" x=\"751.262\" y=\"94.7985\">Class20</text><line style=\"stroke: #A80036; stroke-width: 1.0443864229765012;\" x1=\"731.7668\" x2=\"786.7711\" y1=\"103.0461\" y2=\"103.0461\"/><line style=\"stroke: #A80036; stroke-width: 1.0443864229765012;\" x1=\"731.7668\" x2=\"786.7711\" y1=\"108.6162\" y2=\"108.6162\"/><path d=\"M32.376,52.932 C32.376,62.3702 32.376,72.4373 32.376,80.542 \" fill=\"none\" style=\"stroke: #A80036; stroke-width: 0.6962576153176675;\"/><polygon fill=\"none\" points=\"27.5022,52.9159,32.376,38.9904,37.2499,52.9159,27.5022,52.9159\" style=\"stroke: #A80036; stroke-width: 0.6962576153176675;\"/><path d=\"M113.1419,48.2773 C113.1419,58.96 113.1419,71.0865 113.1419,80.542 \" fill=\"none\" style=\"stroke: #A80036; stroke-width: 0.6962576153176675;\"/><polygon fill=\"#A80036\" points=\"113.1419,38.9904,110.3568,43.168,113.1419,47.3455,115.9269,43.168,113.1419,38.9904\" style=\"stroke: #A80036; stroke-width: 0.6962576153176675;\"/><path d=\"M193.9077,48.2773 C193.9077,58.96 193.9077,71.0865 193.9077,80.542 \" fill=\"none\" style=\"stroke: #A80036; stroke-width: 0.6962576153176675;\"/><polygon fill=\"none\" points=\"193.9077,38.9904,191.1227,43.168,193.9077,47.3455,196.6928,43.168,193.9077,38.9904\" style=\"stroke: #A80036; stroke-width: 0.6962576153176675;\"/><path d=\"M274.6736,38.9904 C274.6736,51.2852 274.6736,68.192 274.6736,80.542 \" fill=\"none\" style=\"stroke: #A80036; stroke-width: 0.6962576153176675; stroke-dasharray: 7.0,7.0;\"/><path d=\"M355.4395,38.9904 C355.4395,51.2852 355.4395,68.192 355.4395,80.542 \" fill=\"none\" style=\"stroke: #A80036; stroke-width: 0.6962576153176675;\"/><path d=\"M436.2054,52.932 C436.2054,62.3702 436.2054,72.4373 436.2054,80.542 \" fill=\"none\" style=\"stroke: #A80036; stroke-width: 0.6962576153176675; stroke-dasharray: 7.0,7.0;\"/><polygon fill=\"none\" points=\"431.3316,52.9159,436.2054,38.9904,441.0792,52.9159,431.3316,52.9159\" style=\"stroke: #A80036; stroke-width: 0.6962576153176675;\"/><path d=\"M516.9713,38.9904 C516.9713,50.1326 516.9713,65.0626 516.9713,76.956 \" fill=\"none\" style=\"stroke: #A80036; stroke-width: 0.6962576153176675;\"/><polygon fill=\"#A80036\" points=\"516.9713,80.542,519.7563,74.2756,516.9713,77.0607,514.1862,74.2756,516.9713,80.542\" style=\"stroke: #A80036; stroke-width: 0.6962576153176675;\"/><path d=\"M597.7372,38.9904 C597.7372,50.1326 597.7372,65.0626 597.7372,76.956 \" fill=\"none\" style=\"stroke: #A80036; stroke-width: 0.6962576153176675; stroke-dasharray: 7.0,7.0;\"/><polygon fill=\"#A80036\" points=\"597.7372,80.542,600.5222,74.2756,597.7372,77.0607,594.9521,74.2756,597.7372,80.542\" style=\"stroke: #A80036; stroke-width: 0.6962576153176675;\"/><path d=\"M678.503,38.9904 C678.503,47.059 678.503,57.1136 678.503,66.5631 \" fill=\"none\" style=\"stroke: #A80036; stroke-width: 0.6962576153176675; stroke-dasharray: 7.0,7.0;\"/><polygon fill=\"none\" points=\"683.3768,66.6169,678.503,80.542,673.6292,66.6168,683.3768,66.6169\" style=\"stroke: #A80036; stroke-width: 0.6962576153176675;\"/><path d=\"M759.2689,48.2773 C759.2689,55.7051 759.2689,63.8309 759.2689,71.2716 \" fill=\"none\" style=\"stroke: #A80036; stroke-width: 0.6962576153176675;\"/><polygon fill=\"#A80036\" points=\"759.2689,80.542,762.054,76.3644,759.2689,72.1869,756.4839,76.3644,759.2689,80.542\" style=\"stroke: #A80036; stroke-width: 0.6962576153176675;\"/><polygon fill=\"#A80036\" points=\"759.2689,38.9904,756.4839,45.2567,759.2689,42.4717,762.054,45.2567,759.2689,38.9904\" style=\"stroke: #A80036; stroke-width: 0.6962576153176675;\"/><line style=\"stroke: #A80036; stroke-width: 0.6962576153176675;\" x1=\"759.2689\" x2=\"759.2689\" y1=\"42.4717\" y2=\"48.0421\"/></g></svg>"
      ],
      "text/plain": [
       "<IPython.core.display.SVG object>"
      ]
     },
     "execution_count": 9,
     "metadata": {},
     "output_type": "execute_result"
    }
   ],
   "source": [
    "%%plantuml figure1\n",
    "@startuml\n",
    "scale 800 width\n",
    "Class01 <|-- Class02\n",
    "Class03 *-- Class04\n",
    "Class05 o-- Class06\n",
    "Class07 .. Class08\n",
    "Class09 -- Class10\n",
    "Class11 <|.. Class12\n",
    "Class13 --> Class14\n",
    "Class15 ..> Class16\n",
    "Class17 ..|> Class18\n",
    "Class19 <--* Class20\n",
    "@enduml"
   ]
  },
  {
   "cell_type": "code",
   "execution_count": 10,
   "metadata": {
    "collapsed": false,
    "slideshow": {
     "slide_type": "slide"
    }
   },
   "outputs": [
    {
     "data": {
      "image/svg+xml": [
       "<svg height=\"154px\" style=\"width:244px;height:154px;\" version=\"1.1\" viewBox=\"0 0 244 154\" width=\"244px\" xmlns=\"http://www.w3.org/2000/svg\" xmlns:xlink=\"http://www.w3.org/1999/xlink\"><defs><filter height=\"300%\" id=\"f1\" width=\"300%\" x=\"-1\" y=\"-1\"><feGaussianBlur result=\"blurOut\" stdDeviation=\"2.0\"/><feColorMatrix in=\"blurOut\" result=\"blurOut2\" type=\"matrix\" values=\"0 0 0 0 0 0 0 0 0 0 0 0 0 0 0 0 0 0 .4 0\"/><feOffset dx=\"4.0\" dy=\"4.0\" in=\"blurOut2\" result=\"blurOut3\"/><feBlend in=\"SourceGraphic\" in2=\"blurOut3\" mode=\"normal\"/></filter></defs><g><line style=\"stroke: #A80036; stroke-width: 1.0; stroke-dasharray: 5.0,5.0;\" x1=\"33\" x2=\"33\" y1=\"38.2969\" y2=\"116.5625\"/><line style=\"stroke: #A80036; stroke-width: 1.0; stroke-dasharray: 5.0,5.0;\" x1=\"216\" x2=\"216\" y1=\"38.2969\" y2=\"116.5625\"/><rect fill=\"#FEFECE\" filter=\"url(#f1)\" height=\"30.2969\" style=\"stroke: #A80036; stroke-width: 1.5;\" width=\"46\" x=\"8\" y=\"3\"/><text fill=\"#000000\" font-family=\"sans-serif\" font-size=\"14\" lengthAdjust=\"spacingAndGlyphs\" textLength=\"32\" x=\"15\" y=\"22.9951\">Alice</text><rect fill=\"#FEFECE\" filter=\"url(#f1)\" height=\"30.2969\" style=\"stroke: #A80036; stroke-width: 1.5;\" width=\"46\" x=\"8\" y=\"115.5625\"/><text fill=\"#000000\" font-family=\"sans-serif\" font-size=\"14\" lengthAdjust=\"spacingAndGlyphs\" textLength=\"32\" x=\"15\" y=\"135.5576\">Alice</text><rect fill=\"#FEFECE\" filter=\"url(#f1)\" height=\"30.2969\" style=\"stroke: #A80036; stroke-width: 1.5;\" width=\"42\" x=\"193\" y=\"3\"/><text fill=\"#000000\" font-family=\"sans-serif\" font-size=\"14\" lengthAdjust=\"spacingAndGlyphs\" textLength=\"28\" x=\"200\" y=\"22.9951\">Bob</text><rect fill=\"#FEFECE\" filter=\"url(#f1)\" height=\"30.2969\" style=\"stroke: #A80036; stroke-width: 1.5;\" width=\"42\" x=\"193\" y=\"115.5625\"/><text fill=\"#000000\" font-family=\"sans-serif\" font-size=\"14\" lengthAdjust=\"spacingAndGlyphs\" textLength=\"28\" x=\"200\" y=\"135.5576\">Bob</text><polygon fill=\"#A80036\" points=\"204,65.2969,214,69.2969,204,73.2969,208,69.2969\" style=\"stroke: #A80036; stroke-width: 1.0;\"/><line style=\"stroke: #A80036; stroke-width: 1.0;\" x1=\"33\" x2=\"210\" y1=\"69.2969\" y2=\"69.2969\"/><text fill=\"#000000\" font-family=\"sans-serif\" font-size=\"13\" lengthAdjust=\"spacingAndGlyphs\" textLength=\"149\" x=\"40\" y=\"64.3638\">Authentication Request</text><polygon fill=\"#A80036\" points=\"44,94.4297,34,98.4297,44,102.4297,40,98.4297\" style=\"stroke: #A80036; stroke-width: 1.0;\"/><line style=\"stroke: #A80036; stroke-width: 1.0; stroke-dasharray: 2.0,2.0;\" x1=\"38\" x2=\"215\" y1=\"98.4297\" y2=\"98.4297\"/><text fill=\"#000000\" font-family=\"sans-serif\" font-size=\"13\" lengthAdjust=\"spacingAndGlyphs\" textLength=\"159\" x=\"50\" y=\"93.4966\">Authentication Response</text></g></svg>"
      ],
      "text/plain": [
       "<IPython.core.display.SVG object>"
      ]
     },
     "execution_count": 10,
     "metadata": {},
     "output_type": "execute_result"
    }
   ],
   "source": [
    "%%plantuml\n",
    "@startuml\n",
    "Alice -> Bob: Authentication Request\n",
    "Bob --> Alice: Authentication Response\n",
    "@enduml"
   ]
  },
  {
   "cell_type": "code",
   "execution_count": 1,
   "metadata": {
    "collapsed": false,
    "scrolled": true,
    "slideshow": {
     "slide_type": "slide"
    }
   },
   "outputs": [
    {
     "data": {
      "image/png": "[encoded data removed]",
      "text/plain": [
       "<IPython.core.display.Image object>"
      ]
     },
     "execution_count": 1,
     "metadata": {},
     "output_type": "execute_result"
    }
   ],
   "source": [
    "from IPython.display import Image\n",
    "Image(filename='uml_actors.png')"
   ]
  },
  {
   "cell_type": "code",
   "execution_count": 7,
   "metadata": {
    "collapsed": false,
    "slideshow": {
     "slide_type": "slide"
    }
   },
   "outputs": [
    {
     "name": "stdout",
     "output_type": "stream",
     "text": [
      "Overwriting HelloWorld.java\n"
     ]
    }
   ],
   "source": [
    "%%writefile HelloWorld.java\n",
    "public class HelloWorld {\n",
    "  public static void main(String[] args) {\n",
    "    System.out.println (\"Hello World\");\n",
    "  }\n",
    "}"
   ]
  },
  {
   "cell_type": "code",
   "execution_count": 8,
   "metadata": {
    "collapsed": false,
    "slideshow": {
     "slide_type": "slide"
    }
   },
   "outputs": [
    {
     "name": "stdout",
     "output_type": "stream",
     "text": [
      "Picked up JAVA_TOOL_OPTIONS: -javaagent:/usr/share/java/jayatanaag.jar \n",
      "Picked up JAVA_TOOL_OPTIONS: -javaagent:/usr/share/java/jayatanaag.jar \n",
      "Hello World\n"
     ]
    }
   ],
   "source": [
    "!javac HelloWorld.java\n",
    "!java -cp . HelloWorld"
   ]
  },
  {
   "cell_type": "code",
   "execution_count": null,
   "metadata": {
    "collapsed": true,
    "slideshow": {
     "slide_type": "slide"
    }
   },
   "outputs": [],
   "source": [
    "package com.ex.ood;\n",
    "public class HelloWorld {\n",
    "    public static void main (String [] args) {\n",
    "        System.out.println(\"Hello World\");\n",
    "    }\n",
    "}"
   ]
  },
  {
   "cell_type": "code",
   "execution_count": 10,
   "metadata": {
    "collapsed": false,
    "slideshow": {
     "slide_type": "slide"
    }
   },
   "outputs": [
    {
     "name": "stdout",
     "output_type": "stream",
     "text": [
      "Problem 2. -----------------\r\n",
      "MallardDuck quack..\r\n",
      "WildTurkey gobble..\r\n",
      "WildTurkey flying a short distance\r\n",
      "WildTurkey gobble..\r\n",
      "----------------------------\r\n"
     ]
    }
   ],
   "source": [
    "!javac test.java -d out\n",
    "!java -cp out/ com.ex.ood.test"
   ]
  },
  {
   "cell_type": "code",
   "execution_count": null,
   "metadata": {
    "collapsed": true,
    "slideshow": {
     "slide_type": "slide"
    }
   },
   "outputs": [],
   "source": [
    "# %load test.java\n",
    "/* ASSISTANT CODE\n",
    " *\n",
    " * Problem 2. Fill in the blanks of the following code fragment. \n",
    " * When you run this code you get the following:\n",
    " * \n",
    " * Problem 2. --------------------\n",
    " * MallardDuck quack..\n",
    " * WildTurkey gobble..\n",
    " * WildTurkey flying a short distance\n",
    " * WildTurkey gobble..\n",
    " * -------------------------------\n",
    " */\n",
    "\n",
    "package com.ex.ood;\n",
    "\n",
    "interface Duck {\n",
    "\tpublic void quack();\n",
    "\tpublic void fly();\n",
    "}\n",
    "\n",
    "class MallardDuck implements Duck {\n",
    "\t@Override\n",
    "\tpublic void quack() {\n",
    "\t\tSystem.out.println(\"MallardDuck quack..\");\n",
    "\t}\n",
    "\t@Override\n",
    "\tpublic void fly() {\n",
    "\t\tSystem.out.println(\"MallardDuck flying\");\n",
    "\t}\n",
    "}\n",
    "\n",
    "interface Turkey {\n",
    "\tpublic void gobble();\n",
    "\tpublic void fly();\n",
    "}\n",
    "\n",
    "class WildTurkey implements Turkey {\n",
    "\t@Override\n",
    "\tpublic void fly() {\n",
    "\t\tSystem.out.println(\"WildTurkey flying a short distance\");\n",
    "\t}\n",
    "\t@Override\n",
    "\tpublic void gobble() {\n",
    "\t\tSystem.out.println(\"WildTurkey gobble..\");\n",
    "\t}\n",
    "}\n",
    "\n",
    "class TurkeyAdapter implements Duck {\n",
    "\tTurkey turkey;\n",
    "\tpublic TurkeyAdapter(Turkey turkey) {\n",
    "\t\tthis.turkey=turkey;\n",
    "\t}\n",
    "\t@Override\n",
    "\tpublic void fly() {\n",
    "\t\tturkey.fly();\n",
    "\t}\n",
    "\t@Override\n",
    "\tpublic void quack() {\n",
    "\t\tturkey.gobble();\n",
    "\t}\n",
    "}\n",
    "\n",
    "public class test {\n",
    "\tpublic static void main(String[] args) {\n",
    "\t\tSystem.out.println(\"Problem 2. -----------------\");\n",
    "        MallardDuck duck = new MallardDuck();\n",
    "        duck.quack();\n",
    "\n",
    "        WildTurkey turkey = new WildTurkey();\n",
    "        turkey.gobble();\n",
    "        turkey.fly();\n",
    "\n",
    "        Duck turkeyAdapter = new TurkeyAdapter(turkey);\n",
    "        turkeyAdapter.quack();\n",
    "\t\tSystem.out.println(\"----------------------------\");\n",
    "\t}\n",
    "}\n"
   ]
  },
  {
   "cell_type": "markdown",
   "metadata": {
    "slideshow": {
     "slide_type": "slide"
    }
   },
   "source": [
    "# 단순\n",
    "* Simple SimDuck\n",
    "* 오리를 날게 fly()"
   ]
  },
  {
   "cell_type": "code",
   "execution_count": 13,
   "metadata": {
    "collapsed": false,
    "slideshow": {
     "slide_type": "slide"
    }
   },
   "outputs": [
    {
     "data": {
      "image/svg+xml": [
       "<svg height=\"224px\" style=\"width:471px;height:224px;\" version=\"1.1\" viewBox=\"0 0 471 224\" width=\"471px\" xmlns=\"http://www.w3.org/2000/svg\" xmlns:xlink=\"http://www.w3.org/1999/xlink\"><defs><filter height=\"300%\" id=\"f1\" width=\"300%\" x=\"-1\" y=\"-1\"><feGaussianBlur result=\"blurOut\" stdDeviation=\"2.0\"/><feColorMatrix in=\"blurOut\" result=\"blurOut2\" type=\"matrix\" values=\"0 0 0 0 0 0 0 0 0 0 0 0 0 0 0 0 0 0 .4 0\"/><feOffset dx=\"4.0\" dy=\"4.0\" in=\"blurOut2\" result=\"blurOut3\"/><feBlend in=\"SourceGraphic\" in2=\"blurOut3\" mode=\"normal\"/></filter></defs><g><rect fill=\"#FEFECE\" filter=\"url(#f1)\" height=\"60.8047\" style=\"stroke: #A80036; stroke-width: 1.5;\" width=\"76\" x=\"41\" y=\"27\"/><ellipse cx=\"56\" cy=\"43\" fill=\"#B4A7E5\" rx=\"11\" ry=\"11\" style=\"stroke: #A80036; stroke-width: 1.0;\"/><path d=\"M51.9219,38.7656 L51.9219,36.6094 L59.3125,36.6094 L59.3125,38.7656 L56.8438,38.7656 L56.8438,46.8438 L59.3125,46.8438 L59.3125,49 L51.9219,49 L51.9219,46.8438 L54.3906,46.8438 L54.3906,38.7656 L51.9219,38.7656 Z \"/><text fill=\"#000000\" font-family=\"sans-serif\" font-size=\"12\" font-style=\"italic\" lengthAdjust=\"spacingAndGlyphs\" textLength=\"44\" x=\"70\" y=\"47.1543\">Flyable</text><line style=\"stroke: #A80036; stroke-width: 1.5;\" x1=\"42\" x2=\"116\" y1=\"59\" y2=\"59\"/><line style=\"stroke: #A80036; stroke-width: 1.5;\" x1=\"42\" x2=\"116\" y1=\"67\" y2=\"67\"/><ellipse cx=\"52\" cy=\"78.9023\" fill=\"#84BE84\" rx=\"3\" ry=\"3\" style=\"stroke: #038048; stroke-width: 1.0;\"/><text fill=\"#000000\" font-family=\"sans-serif\" font-size=\"11\" lengthAdjust=\"spacingAndGlyphs\" textLength=\"21\" x=\"61\" y=\"81.2104\">fly()</text><rect fill=\"#FEFECE\" filter=\"url(#f1)\" height=\"48\" style=\"stroke: #A80036; stroke-width: 1.5;\" width=\"97\" x=\"365.5\" y=\"33.5\"/><ellipse cx=\"380.5\" cy=\"49.5\" fill=\"#B4A7E5\" rx=\"11\" ry=\"11\" style=\"stroke: #A80036; stroke-width: 1.0;\"/><path d=\"M376.4219,45.2656 L376.4219,43.1094 L383.8125,43.1094 L383.8125,45.2656 L381.3438,45.2656 L381.3438,53.3438 L383.8125,53.3438 L383.8125,55.5 L376.4219,55.5 L376.4219,53.3438 L378.8906,53.3438 L378.8906,45.2656 L376.4219,45.2656 Z \"/><text fill=\"#000000\" font-family=\"sans-serif\" font-size=\"12\" font-style=\"italic\" lengthAdjust=\"spacingAndGlyphs\" textLength=\"65\" x=\"394.5\" y=\"53.6543\">Quackable</text><line style=\"stroke: #A80036; stroke-width: 1.5;\" x1=\"366.5\" x2=\"461.5\" y1=\"65.5\" y2=\"65.5\"/><line style=\"stroke: #A80036; stroke-width: 1.5;\" x1=\"366.5\" x2=\"461.5\" y1=\"73.5\" y2=\"73.5\"/><rect fill=\"#FEFECE\" filter=\"url(#f1)\" height=\"99.2188\" style=\"stroke: #A80036; stroke-width: 1.5;\" width=\"91\" x=\"239.5\" y=\"8\"/><ellipse cx=\"267.1\" cy=\"24\" fill=\"#ADD1B2\" rx=\"11\" ry=\"11\" style=\"stroke: #A80036; stroke-width: 1.0;\"/><path d=\"M270.0688,29.6406 Q269.4906,29.9375 268.85,30.0859 Q268.2094,30.2344 267.5063,30.2344 Q265.0063,30.2344 263.6859,28.5859 Q262.3656,26.9375 262.3656,23.8125 Q262.3656,20.6875 263.6859,19.0313 Q265.0063,17.375 267.5063,17.375 Q268.2094,17.375 268.8578,17.5313 Q269.5063,17.6875 270.0688,17.9844 L270.0688,20.7031 Q269.4438,20.125 268.85,19.8516 Q268.2563,19.5781 267.6313,19.5781 Q266.2875,19.5781 265.6,20.6484 Q264.9125,21.7188 264.9125,23.8125 Q264.9125,25.9063 265.6,26.9766 Q266.2875,28.0469 267.6313,28.0469 Q268.2563,28.0469 268.85,27.7734 Q269.4438,27.5 270.0688,26.9219 L270.0688,29.6406 Z \"/><text fill=\"#000000\" font-family=\"sans-serif\" font-size=\"12\" lengthAdjust=\"spacingAndGlyphs\" textLength=\"31\" x=\"283.9\" y=\"28.1543\">Duck</text><line style=\"stroke: #A80036; stroke-width: 1.5;\" x1=\"240.5\" x2=\"329.5\" y1=\"40\" y2=\"40\"/><rect fill=\"none\" height=\"6\" style=\"stroke: #C82930; stroke-width: 1.0;\" width=\"6\" x=\"247.5\" y=\"48.9023\"/><text fill=\"#000000\" font-family=\"sans-serif\" font-size=\"11\" lengthAdjust=\"spacingAndGlyphs\" textLength=\"65\" x=\"259.5\" y=\"54.2104\">stundentNo</text><polygon fill=\"none\" points=\"250.5,59.707,254.5,63.707,250.5,67.707,246.5,63.707\" style=\"stroke: #B38D22; stroke-width: 1.0;\"/><text fill=\"#000000\" font-family=\"sans-serif\" font-size=\"11\" lengthAdjust=\"spacingAndGlyphs\" textLength=\"31\" x=\"259.5\" y=\"67.0151\">field1</text><line style=\"stroke: #A80036; stroke-width: 1.5;\" x1=\"240.5\" x2=\"329.5\" y1=\"73.6094\" y2=\"73.6094\"/><ellipse cx=\"250.5\" cy=\"85.5117\" fill=\"#84BE84\" rx=\"3\" ry=\"3\" style=\"stroke: #038048; stroke-width: 1.0;\"/><text fill=\"#000000\" font-family=\"sans-serif\" font-size=\"11\" lengthAdjust=\"spacingAndGlyphs\" textLength=\"58\" x=\"259.5\" y=\"87.8198\">method1()</text><ellipse cx=\"250.5\" cy=\"98.3164\" fill=\"#84BE84\" rx=\"3\" ry=\"3\" style=\"stroke: #038048; stroke-width: 1.0;\"/><text fill=\"#000000\" font-family=\"sans-serif\" font-size=\"11\" lengthAdjust=\"spacingAndGlyphs\" textLength=\"58\" x=\"259.5\" y=\"100.6245\">method2()</text><rect fill=\"#FEFECE\" filter=\"url(#f1)\" height=\"48\" style=\"stroke: #A80036; stroke-width: 1.5;\" width=\"100\" x=\"161\" y=\"167\"/><ellipse cx=\"176\" cy=\"183\" fill=\"#ADD1B2\" rx=\"11\" ry=\"11\" style=\"stroke: #A80036; stroke-width: 1.0;\"/><path d=\"M178.9688,188.6406 Q178.3906,188.9375 177.75,189.0859 Q177.1094,189.2344 176.4063,189.2344 Q173.9063,189.2344 172.5859,187.5859 Q171.2656,185.9375 171.2656,182.8125 Q171.2656,179.6875 172.5859,178.0313 Q173.9063,176.375 176.4063,176.375 Q177.1094,176.375 177.7578,176.5313 Q178.4063,176.6875 178.9688,176.9844 L178.9688,179.7031 Q178.3438,179.125 177.75,178.8516 Q177.1563,178.5781 176.5313,178.5781 Q175.1875,178.5781 174.5,179.6484 Q173.8125,180.7188 173.8125,182.8125 Q173.8125,184.9063 174.5,185.9766 Q175.1875,187.0469 176.5313,187.0469 Q177.1563,187.0469 177.75,186.7734 Q178.3438,186.5 178.9688,185.9219 L178.9688,188.6406 Z \"/><text fill=\"#000000\" font-family=\"sans-serif\" font-size=\"12\" lengthAdjust=\"spacingAndGlyphs\" textLength=\"68\" x=\"190\" y=\"187.1543\">MallerDuck</text><line style=\"stroke: #A80036; stroke-width: 1.5;\" x1=\"162\" x2=\"260\" y1=\"199\" y2=\"199\"/><line style=\"stroke: #A80036; stroke-width: 1.5;\" x1=\"162\" x2=\"260\" y1=\"207\" y2=\"207\"/><rect fill=\"#FEFECE\" filter=\"url(#f1)\" height=\"48\" style=\"stroke: #A80036; stroke-width: 1.5;\" width=\"128\" x=\"296\" y=\"167\"/><ellipse cx=\"311\" cy=\"183\" fill=\"#ADD1B2\" rx=\"11\" ry=\"11\" style=\"stroke: #A80036; stroke-width: 1.0;\"/><path d=\"M313.9688,188.6406 Q313.3906,188.9375 312.75,189.0859 Q312.1094,189.2344 311.4063,189.2344 Q308.9063,189.2344 307.5859,187.5859 Q306.2656,185.9375 306.2656,182.8125 Q306.2656,179.6875 307.5859,178.0313 Q308.9063,176.375 311.4063,176.375 Q312.1094,176.375 312.7578,176.5313 Q313.4063,176.6875 313.9688,176.9844 L313.9688,179.7031 Q313.3438,179.125 312.75,178.8516 Q312.1563,178.5781 311.5313,178.5781 Q310.1875,178.5781 309.5,179.6484 Q308.8125,180.7188 308.8125,182.8125 Q308.8125,184.9063 309.5,185.9766 Q310.1875,187.0469 311.5313,187.0469 Q312.1563,187.0469 312.75,186.7734 Q313.3438,186.5 313.9688,185.9219 L313.9688,188.6406 Z \"/><text fill=\"#000000\" font-family=\"sans-serif\" font-size=\"12\" lengthAdjust=\"spacingAndGlyphs\" textLength=\"96\" x=\"325\" y=\"187.1543\">ReadHeadDuck</text><line style=\"stroke: #A80036; stroke-width: 1.5;\" x1=\"297\" x2=\"423\" y1=\"199\" y2=\"199\"/><line style=\"stroke: #A80036; stroke-width: 1.5;\" x1=\"297\" x2=\"423\" y1=\"207\" y2=\"207\"/><rect fill=\"#FEFECE\" filter=\"url(#f1)\" height=\"48\" style=\"stroke: #A80036; stroke-width: 1.5;\" width=\"120\" x=\"6\" y=\"167\"/><ellipse cx=\"21\" cy=\"183\" fill=\"#ADD1B2\" rx=\"11\" ry=\"11\" style=\"stroke: #A80036; stroke-width: 1.0;\"/><path d=\"M23.9688,188.6406 Q23.3906,188.9375 22.75,189.0859 Q22.1094,189.2344 21.4063,189.2344 Q18.9063,189.2344 17.5859,187.5859 Q16.2656,185.9375 16.2656,182.8125 Q16.2656,179.6875 17.5859,178.0313 Q18.9063,176.375 21.4063,176.375 Q22.1094,176.375 22.7578,176.5313 Q23.4063,176.6875 23.9688,176.9844 L23.9688,179.7031 Q23.3438,179.125 22.75,178.8516 Q22.1563,178.5781 21.5313,178.5781 Q20.1875,178.5781 19.5,179.6484 Q18.8125,180.7188 18.8125,182.8125 Q18.8125,184.9063 19.5,185.9766 Q20.1875,187.0469 21.5313,187.0469 Q22.1563,187.0469 22.75,186.7734 Q23.3438,186.5 23.9688,185.9219 L23.9688,188.6406 Z \"/><text fill=\"#000000\" font-family=\"sans-serif\" font-size=\"12\" lengthAdjust=\"spacingAndGlyphs\" textLength=\"88\" x=\"35\" y=\"187.1543\">RedHeadDuck</text><line style=\"stroke: #A80036; stroke-width: 1.5;\" x1=\"7\" x2=\"125\" y1=\"199\" y2=\"199\"/><line style=\"stroke: #A80036; stroke-width: 1.5;\" x1=\"7\" x2=\"125\" y1=\"207\" y2=\"207\"/><path d=\"M247.719,124.7494 C239.169,139.9426 230.639,155.1001 223.956,166.9769 \" fill=\"none\" style=\"stroke: #A80036; stroke-width: 1.0;\"/><polygon fill=\"none\" points=\"241.747,121.0889,257.655,107.092,253.947,127.9548,241.747,121.0889\" style=\"stroke: #A80036; stroke-width: 1.0;\"/><path d=\"M322.785,124.7494 C331.45,139.9426 340.095,155.1001 346.869,166.9769 \" fill=\"none\" style=\"stroke: #A80036; stroke-width: 1.0;\"/><polygon fill=\"none\" points=\"316.542,127.9331,312.714,107.092,328.703,120.9971,316.542,127.9331\" style=\"stroke: #A80036; stroke-width: 1.0;\"/><path d=\"M122.889,102.222 C144.514,123.7654 169.719,148.8757 187.618,166.707 \" fill=\"none\" style=\"stroke: #A80036; stroke-width: 1.0; stroke-dasharray: 7.0,7.0;\"/><polygon fill=\"none\" points=\"117.852,107.086,108.623,88.011,127.733,97.167,117.852,107.086\" style=\"stroke: #A80036; stroke-width: 1.0;\"/><path d=\"M74.086,108.207 C72.1004,128.2922 69.9045,150.5045 68.3027,166.707 \" fill=\"none\" style=\"stroke: #A80036; stroke-width: 1.0; stroke-dasharray: 7.0,7.0;\"/><polygon fill=\"none\" points=\"67.1488,107.225,76.0825,88.011,81.0809,108.603,67.1488,107.225\" style=\"stroke: #A80036; stroke-width: 1.0;\"/></g></svg>"
      ],
      "text/plain": [
       "<IPython.core.display.SVG object>"
      ]
     },
     "execution_count": 13,
     "metadata": {},
     "output_type": "execute_result"
    }
   ],
   "source": [
    "%%plantuml\n",
    "@startuml\n",
    "Interface Flyable\n",
    "Interface Quackable\n",
    "\n",
    "Duck <|-- MallerDuck\n",
    "Duck <|-- ReadHeadDuck\n",
    "Flyable <|.. MallerDuck\n",
    "Flyable <|.. RedHeadDuck\n",
    "\n",
    "\n",
    "class Duck {\n",
    "  -stundentNo\n",
    "  #field1\n",
    "  +method1()\n",
    "  +method2()\n",
    "}\n",
    "\n",
    "Interface Flyable {\n",
    "    +fly()\n",
    "}\n",
    "@enduml"
   ]
  },
  {
   "cell_type": "code",
   "execution_count": 9,
   "metadata": {
    "collapsed": false,
    "slideshow": {
     "slide_type": "slide"
    }
   },
   "outputs": [
    {
     "data": {
      "image/svg+xml": [
       "<svg height=\"220px\" style=\"width:112px;height:220px;\" version=\"1.1\" viewBox=\"0 0 112 220\" width=\"112px\" xmlns=\"http://www.w3.org/2000/svg\" xmlns:xlink=\"http://www.w3.org/1999/xlink\"><defs><filter height=\"300%\" id=\"f1\" width=\"300%\" x=\"-1\" y=\"-1\"><feGaussianBlur result=\"blurOut\" stdDeviation=\"2.0\"/><feColorMatrix in=\"blurOut\" result=\"blurOut2\" type=\"matrix\" values=\"0 0 0 0 0 0 0 0 0 0 0 0 0 0 0 0 0 0 .4 0\"/><feOffset dx=\"4.0\" dy=\"4.0\" in=\"blurOut2\" result=\"blurOut3\"/><feBlend in=\"SourceGraphic\" in2=\"blurOut3\" mode=\"normal\"/></filter></defs><g><line style=\"stroke: #A80036; stroke-width: 1.0; stroke-dasharray: 5.0,5.0;\" x1=\"26\" x2=\"26\" y1=\"86.4883\" y2=\"135.7988\"/><line style=\"stroke: #A80036; stroke-width: 1.0; stroke-dasharray: 5.0,5.0;\" x1=\"81\" x2=\"81\" y1=\"86.4883\" y2=\"135.7988\"/><text fill=\"#000000\" font-family=\"sans-serif\" font-size=\"14\" lengthAdjust=\"spacingAndGlyphs\" textLength=\"31\" x=\"8\" y=\"83.5352\">User</text><ellipse cx=\"26.5\" cy=\"13\" fill=\"#FEFECE\" filter=\"url(#f1)\" rx=\"8\" ry=\"8\" style=\"stroke: #A80036; stroke-width: 2.0;\"/><path d=\"M26.5,21 L26.5,48 M13.5,29 L39.5,29 M26.5,48 L13.5,63 M26.5,48 L39.5,63 \" fill=\"#FEFECE\" filter=\"url(#f1)\" style=\"stroke: #A80036; stroke-width: 2.0;\"/><text fill=\"#000000\" font-family=\"sans-serif\" font-size=\"14\" lengthAdjust=\"spacingAndGlyphs\" textLength=\"31\" x=\"8\" y=\"148.334\">User</text><ellipse cx=\"26.5\" cy=\"161.2871\" fill=\"#FEFECE\" filter=\"url(#f1)\" rx=\"8\" ry=\"8\" style=\"stroke: #A80036; stroke-width: 2.0;\"/><path d=\"M26.5,169.2871 L26.5,196.2871 M13.5,177.2871 L39.5,177.2871 M26.5,196.2871 L13.5,211.2871 M26.5,196.2871 L39.5,211.2871 \" fill=\"#FEFECE\" filter=\"url(#f1)\" style=\"stroke: #A80036; stroke-width: 2.0;\"/><rect fill=\"#FEFECE\" filter=\"url(#f1)\" height=\"30.4883\" style=\"stroke: #A80036; stroke-width: 1.5;\" width=\"48\" x=\"55\" y=\"51\"/><text fill=\"#000000\" font-family=\"sans-serif\" font-size=\"14\" lengthAdjust=\"spacingAndGlyphs\" textLength=\"34\" x=\"62\" y=\"71.5352\">Duck</text><rect fill=\"#FEFECE\" filter=\"url(#f1)\" height=\"30.4883\" style=\"stroke: #A80036; stroke-width: 1.5;\" width=\"48\" x=\"55\" y=\"134.7988\"/><text fill=\"#000000\" font-family=\"sans-serif\" font-size=\"14\" lengthAdjust=\"spacingAndGlyphs\" textLength=\"34\" x=\"62\" y=\"155.334\">Duck</text><polygon fill=\"#A80036\" points=\"69,113.4883,79,117.4883,69,121.4883,73,117.4883\" style=\"stroke: #A80036; stroke-width: 1.0;\"/><line style=\"stroke: #A80036; stroke-width: 1.0;\" x1=\"26.5\" x2=\"75\" y1=\"117.4883\" y2=\"117.4883\"/><text fill=\"#000000\" font-family=\"sans-serif\" font-size=\"13\" lengthAdjust=\"spacingAndGlyphs\" textLength=\"24\" x=\"33.5\" y=\"113.0566\">fly()</text></g></svg>"
      ],
      "text/plain": [
       "<IPython.core.display.SVG object>"
      ]
     },
     "execution_count": 9,
     "metadata": {},
     "output_type": "execute_result"
    }
   ],
   "source": [
    "%%plantuml\n",
    "@startuml\n",
    "actor User\n",
    "User -> Duck:fly()\n",
    "@enduml"
   ]
  }
 ],
 "metadata": {
  "celltoolbar": "Slideshow",
  "kernelspec": {
   "display_name": "Python 2",
   "language": "python",
   "name": "python2"
  },
  "language_info": {
   "codemirror_mode": {
    "name": "ipython",
    "version": 2
   },
   "file_extension": ".py",
   "mimetype": "text/x-python",
   "name": "python",
   "nbconvert_exporter": "python",
   "pygments_lexer": "ipython2",
   "version": "2.7.9"
  }
 },
 "nbformat": 4,
 "nbformat_minor": 0
}
